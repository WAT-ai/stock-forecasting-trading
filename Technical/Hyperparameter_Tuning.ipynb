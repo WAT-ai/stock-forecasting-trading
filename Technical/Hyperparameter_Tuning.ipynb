{
  "nbformat": 4,
  "nbformat_minor": 0,
  "metadata": {
    "colab": {
      "provenance": []
    },
    "kernelspec": {
      "name": "python3",
      "display_name": "Python 3"
    },
    "language_info": {
      "name": "python"
    }
  },
  "cells": [
    {
      "cell_type": "code",
      "execution_count": 1,
      "metadata": {
        "colab": {
          "base_uri": "https://localhost:8080/"
        },
        "id": "X6x_iIeO5hat",
        "outputId": "90aca75d-2d5c-4ab7-b292-bd3efccd6162"
      },
      "outputs": [
        {
          "output_type": "stream",
          "name": "stdout",
          "text": [
            "Requirement already satisfied: yfinance in /usr/local/lib/python3.10/dist-packages (0.2.36)\n",
            "Requirement already satisfied: pandas>=1.3.0 in /usr/local/lib/python3.10/dist-packages (from yfinance) (1.5.3)\n",
            "Requirement already satisfied: numpy>=1.16.5 in /usr/local/lib/python3.10/dist-packages (from yfinance) (1.25.2)\n",
            "Requirement already satisfied: requests>=2.31 in /usr/local/lib/python3.10/dist-packages (from yfinance) (2.31.0)\n",
            "Requirement already satisfied: multitasking>=0.0.7 in /usr/local/lib/python3.10/dist-packages (from yfinance) (0.0.11)\n",
            "Requirement already satisfied: lxml>=4.9.1 in /usr/local/lib/python3.10/dist-packages (from yfinance) (4.9.4)\n",
            "Requirement already satisfied: appdirs>=1.4.4 in /usr/local/lib/python3.10/dist-packages (from yfinance) (1.4.4)\n",
            "Requirement already satisfied: pytz>=2022.5 in /usr/local/lib/python3.10/dist-packages (from yfinance) (2023.4)\n",
            "Requirement already satisfied: frozendict>=2.3.4 in /usr/local/lib/python3.10/dist-packages (from yfinance) (2.4.0)\n",
            "Requirement already satisfied: peewee>=3.16.2 in /usr/local/lib/python3.10/dist-packages (from yfinance) (3.17.1)\n",
            "Requirement already satisfied: beautifulsoup4>=4.11.1 in /usr/local/lib/python3.10/dist-packages (from yfinance) (4.12.3)\n",
            "Requirement already satisfied: html5lib>=1.1 in /usr/local/lib/python3.10/dist-packages (from yfinance) (1.1)\n",
            "Requirement already satisfied: soupsieve>1.2 in /usr/local/lib/python3.10/dist-packages (from beautifulsoup4>=4.11.1->yfinance) (2.5)\n",
            "Requirement already satisfied: six>=1.9 in /usr/local/lib/python3.10/dist-packages (from html5lib>=1.1->yfinance) (1.16.0)\n",
            "Requirement already satisfied: webencodings in /usr/local/lib/python3.10/dist-packages (from html5lib>=1.1->yfinance) (0.5.1)\n",
            "Requirement already satisfied: python-dateutil>=2.8.1 in /usr/local/lib/python3.10/dist-packages (from pandas>=1.3.0->yfinance) (2.8.2)\n",
            "Requirement already satisfied: charset-normalizer<4,>=2 in /usr/local/lib/python3.10/dist-packages (from requests>=2.31->yfinance) (3.3.2)\n",
            "Requirement already satisfied: idna<4,>=2.5 in /usr/local/lib/python3.10/dist-packages (from requests>=2.31->yfinance) (3.6)\n",
            "Requirement already satisfied: urllib3<3,>=1.21.1 in /usr/local/lib/python3.10/dist-packages (from requests>=2.31->yfinance) (2.0.7)\n",
            "Requirement already satisfied: certifi>=2017.4.17 in /usr/local/lib/python3.10/dist-packages (from requests>=2.31->yfinance) (2024.2.2)\n"
          ]
        }
      ],
      "source": [
        "!pip install yfinance"
      ]
    },
    {
      "cell_type": "code",
      "source": [
        "import yfinance as yf"
      ],
      "metadata": {
        "colab": {
          "base_uri": "https://localhost:8080/"
        },
        "id": "K8t2NjAk5xTD",
        "outputId": "e21dfde7-8310-46bc-c8af-b484ea4b9fc1"
      },
      "execution_count": 2,
      "outputs": [
        {
          "output_type": "stream",
          "name": "stderr",
          "text": [
            "/usr/local/lib/python3.10/dist-packages/yfinance/base.py:48: FutureWarning: The default dtype for empty Series will be 'object' instead of 'float64' in a future version. Specify a dtype explicitly to silence this warning.\n",
            "  _empty_series = pd.Series()\n"
          ]
        }
      ]
    },
    {
      "cell_type": "code",
      "source": [
        "stock_symbol = 'YUM'"
      ],
      "metadata": {
        "id": "pechNT8X5zuH"
      },
      "execution_count": 3,
      "outputs": []
    },
    {
      "cell_type": "code",
      "source": [
        "data = yf.download(tickers=stock_symbol,period='5y',interval='1d')"
      ],
      "metadata": {
        "colab": {
          "base_uri": "https://localhost:8080/"
        },
        "id": "70vCdCqV7Gvf",
        "outputId": "2d64d9d2-6cbb-4b3a-ef10-a1f4a403b2de"
      },
      "execution_count": 4,
      "outputs": [
        {
          "output_type": "stream",
          "name": "stderr",
          "text": [
            "\r[*********************100%%**********************]  1 of 1 completed\n"
          ]
        }
      ]
    },
    {
      "cell_type": "code",
      "source": [
        "type(data)"
      ],
      "metadata": {
        "colab": {
          "base_uri": "https://localhost:8080/",
          "height": 204
        },
        "id": "uEMRbjnx7Nyi",
        "outputId": "10eff6e3-ca3e-44d6-ec25-5e65dd8b8f8f"
      },
      "execution_count": 5,
      "outputs": [
        {
          "output_type": "execute_result",
          "data": {
            "text/plain": [
              "pandas.core.frame.DataFrame"
            ],
            "text/html": [
              "<div style=\"max-width:800px; border: 1px solid var(--colab-border-color);\"><style>\n",
              "      pre.function-repr-contents {\n",
              "        overflow-x: auto;\n",
              "        padding: 8px 12px;\n",
              "        max-height: 500px;\n",
              "      }\n",
              "\n",
              "      pre.function-repr-contents.function-repr-contents-collapsed {\n",
              "        cursor: pointer;\n",
              "        max-height: 100px;\n",
              "      }\n",
              "    </style>\n",
              "    <pre style=\"white-space: initial; background:\n",
              "         var(--colab-secondary-surface-color); padding: 8px 12px;\n",
              "         border-bottom: 1px solid var(--colab-border-color);\"><b>pandas.core.frame.DataFrame</b><br/>def __init__(data=None, index: Axes | None=None, columns: Axes | None=None, dtype: Dtype | None=None, copy: bool | None=None) -&gt; None</pre><pre class=\"function-repr-contents function-repr-contents-collapsed\" style=\"\"><a class=\"filepath\" style=\"display:none\" href=\"#\">/usr/local/lib/python3.10/dist-packages/pandas/core/frame.py</a>Two-dimensional, size-mutable, potentially heterogeneous tabular data.\n",
              "\n",
              "Data structure also contains labeled axes (rows and columns).\n",
              "Arithmetic operations align on both row and column labels. Can be\n",
              "thought of as a dict-like container for Series objects. The primary\n",
              "pandas data structure.\n",
              "\n",
              "Parameters\n",
              "----------\n",
              "data : ndarray (structured or homogeneous), Iterable, dict, or DataFrame\n",
              "    Dict can contain Series, arrays, constants, dataclass or list-like objects. If\n",
              "    data is a dict, column order follows insertion-order. If a dict contains Series\n",
              "    which have an index defined, it is aligned by its index.\n",
              "\n",
              "    .. versionchanged:: 0.25.0\n",
              "       If data is a list of dicts, column order follows insertion-order.\n",
              "\n",
              "index : Index or array-like\n",
              "    Index to use for resulting frame. Will default to RangeIndex if\n",
              "    no indexing information part of input data and no index provided.\n",
              "columns : Index or array-like\n",
              "    Column labels to use for resulting frame when data does not have them,\n",
              "    defaulting to RangeIndex(0, 1, 2, ..., n). If data contains column labels,\n",
              "    will perform column selection instead.\n",
              "dtype : dtype, default None\n",
              "    Data type to force. Only a single dtype is allowed. If None, infer.\n",
              "copy : bool or None, default None\n",
              "    Copy data from inputs.\n",
              "    For dict data, the default of None behaves like ``copy=True``.  For DataFrame\n",
              "    or 2d ndarray input, the default of None behaves like ``copy=False``.\n",
              "    If data is a dict containing one or more Series (possibly of different dtypes),\n",
              "    ``copy=False`` will ensure that these inputs are not copied.\n",
              "\n",
              "    .. versionchanged:: 1.3.0\n",
              "\n",
              "See Also\n",
              "--------\n",
              "DataFrame.from_records : Constructor from tuples, also record arrays.\n",
              "DataFrame.from_dict : From dicts of Series, arrays, or dicts.\n",
              "read_csv : Read a comma-separated values (csv) file into DataFrame.\n",
              "read_table : Read general delimited file into DataFrame.\n",
              "read_clipboard : Read text from clipboard into DataFrame.\n",
              "\n",
              "Notes\n",
              "-----\n",
              "Please reference the :ref:`User Guide &lt;basics.dataframe&gt;` for more information.\n",
              "\n",
              "Examples\n",
              "--------\n",
              "Constructing DataFrame from a dictionary.\n",
              "\n",
              "&gt;&gt;&gt; d = {&#x27;col1&#x27;: [1, 2], &#x27;col2&#x27;: [3, 4]}\n",
              "&gt;&gt;&gt; df = pd.DataFrame(data=d)\n",
              "&gt;&gt;&gt; df\n",
              "   col1  col2\n",
              "0     1     3\n",
              "1     2     4\n",
              "\n",
              "Notice that the inferred dtype is int64.\n",
              "\n",
              "&gt;&gt;&gt; df.dtypes\n",
              "col1    int64\n",
              "col2    int64\n",
              "dtype: object\n",
              "\n",
              "To enforce a single dtype:\n",
              "\n",
              "&gt;&gt;&gt; df = pd.DataFrame(data=d, dtype=np.int8)\n",
              "&gt;&gt;&gt; df.dtypes\n",
              "col1    int8\n",
              "col2    int8\n",
              "dtype: object\n",
              "\n",
              "Constructing DataFrame from a dictionary including Series:\n",
              "\n",
              "&gt;&gt;&gt; d = {&#x27;col1&#x27;: [0, 1, 2, 3], &#x27;col2&#x27;: pd.Series([2, 3], index=[2, 3])}\n",
              "&gt;&gt;&gt; pd.DataFrame(data=d, index=[0, 1, 2, 3])\n",
              "   col1  col2\n",
              "0     0   NaN\n",
              "1     1   NaN\n",
              "2     2   2.0\n",
              "3     3   3.0\n",
              "\n",
              "Constructing DataFrame from numpy ndarray:\n",
              "\n",
              "&gt;&gt;&gt; df2 = pd.DataFrame(np.array([[1, 2, 3], [4, 5, 6], [7, 8, 9]]),\n",
              "...                    columns=[&#x27;a&#x27;, &#x27;b&#x27;, &#x27;c&#x27;])\n",
              "&gt;&gt;&gt; df2\n",
              "   a  b  c\n",
              "0  1  2  3\n",
              "1  4  5  6\n",
              "2  7  8  9\n",
              "\n",
              "Constructing DataFrame from a numpy ndarray that has labeled columns:\n",
              "\n",
              "&gt;&gt;&gt; data = np.array([(1, 2, 3), (4, 5, 6), (7, 8, 9)],\n",
              "...                 dtype=[(&quot;a&quot;, &quot;i4&quot;), (&quot;b&quot;, &quot;i4&quot;), (&quot;c&quot;, &quot;i4&quot;)])\n",
              "&gt;&gt;&gt; df3 = pd.DataFrame(data, columns=[&#x27;c&#x27;, &#x27;a&#x27;])\n",
              "...\n",
              "&gt;&gt;&gt; df3\n",
              "   c  a\n",
              "0  3  1\n",
              "1  6  4\n",
              "2  9  7\n",
              "\n",
              "Constructing DataFrame from dataclass:\n",
              "\n",
              "&gt;&gt;&gt; from dataclasses import make_dataclass\n",
              "&gt;&gt;&gt; Point = make_dataclass(&quot;Point&quot;, [(&quot;x&quot;, int), (&quot;y&quot;, int)])\n",
              "&gt;&gt;&gt; pd.DataFrame([Point(0, 0), Point(0, 3), Point(2, 3)])\n",
              "   x  y\n",
              "0  0  0\n",
              "1  0  3\n",
              "2  2  3</pre>\n",
              "      <script>\n",
              "      if (google.colab.kernel.accessAllowed && google.colab.files && google.colab.files.view) {\n",
              "        for (const element of document.querySelectorAll('.filepath')) {\n",
              "          element.style.display = 'block'\n",
              "          element.onclick = (event) => {\n",
              "            event.preventDefault();\n",
              "            event.stopPropagation();\n",
              "            google.colab.files.view(element.textContent, 475);\n",
              "          };\n",
              "        }\n",
              "      }\n",
              "      for (const element of document.querySelectorAll('.function-repr-contents')) {\n",
              "        element.onclick = (event) => {\n",
              "          event.preventDefault();\n",
              "          event.stopPropagation();\n",
              "          element.classList.toggle('function-repr-contents-collapsed');\n",
              "        };\n",
              "      }\n",
              "      </script>\n",
              "      </div>"
            ]
          },
          "metadata": {},
          "execution_count": 5
        }
      ]
    },
    {
      "cell_type": "code",
      "source": [
        "data.head()"
      ],
      "metadata": {
        "colab": {
          "base_uri": "https://localhost:8080/",
          "height": 238
        },
        "id": "ZYajxMtH7SSj",
        "outputId": "e8a8ec63-aa8a-4e80-8193-d00bc15f8f13"
      },
      "execution_count": 6,
      "outputs": [
        {
          "output_type": "execute_result",
          "data": {
            "text/plain": [
              "                 Open       High        Low      Close  Adj Close   Volume\n",
              "Date                                                                      \n",
              "2019-02-19  94.250000  94.790001  94.099998  94.519997  86.778793  1999800\n",
              "2019-02-20  94.669998  95.199997  94.360001  94.720001  86.962425  2322300\n",
              "2019-02-21  94.529999  95.080002  94.129997  94.879997  87.109306  1364400\n",
              "2019-02-22  95.000000  95.400002  94.489998  95.389999  87.577545  1932100\n",
              "2019-02-25  95.699997  95.699997  93.180000  93.500000  85.842323  2204500"
            ],
            "text/html": [
              "\n",
              "  <div id=\"df-168a1159-0e36-4528-8726-60d43cbc1dbd\" class=\"colab-df-container\">\n",
              "    <div>\n",
              "<style scoped>\n",
              "    .dataframe tbody tr th:only-of-type {\n",
              "        vertical-align: middle;\n",
              "    }\n",
              "\n",
              "    .dataframe tbody tr th {\n",
              "        vertical-align: top;\n",
              "    }\n",
              "\n",
              "    .dataframe thead th {\n",
              "        text-align: right;\n",
              "    }\n",
              "</style>\n",
              "<table border=\"1\" class=\"dataframe\">\n",
              "  <thead>\n",
              "    <tr style=\"text-align: right;\">\n",
              "      <th></th>\n",
              "      <th>Open</th>\n",
              "      <th>High</th>\n",
              "      <th>Low</th>\n",
              "      <th>Close</th>\n",
              "      <th>Adj Close</th>\n",
              "      <th>Volume</th>\n",
              "    </tr>\n",
              "    <tr>\n",
              "      <th>Date</th>\n",
              "      <th></th>\n",
              "      <th></th>\n",
              "      <th></th>\n",
              "      <th></th>\n",
              "      <th></th>\n",
              "      <th></th>\n",
              "    </tr>\n",
              "  </thead>\n",
              "  <tbody>\n",
              "    <tr>\n",
              "      <th>2019-02-19</th>\n",
              "      <td>94.250000</td>\n",
              "      <td>94.790001</td>\n",
              "      <td>94.099998</td>\n",
              "      <td>94.519997</td>\n",
              "      <td>86.778793</td>\n",
              "      <td>1999800</td>\n",
              "    </tr>\n",
              "    <tr>\n",
              "      <th>2019-02-20</th>\n",
              "      <td>94.669998</td>\n",
              "      <td>95.199997</td>\n",
              "      <td>94.360001</td>\n",
              "      <td>94.720001</td>\n",
              "      <td>86.962425</td>\n",
              "      <td>2322300</td>\n",
              "    </tr>\n",
              "    <tr>\n",
              "      <th>2019-02-21</th>\n",
              "      <td>94.529999</td>\n",
              "      <td>95.080002</td>\n",
              "      <td>94.129997</td>\n",
              "      <td>94.879997</td>\n",
              "      <td>87.109306</td>\n",
              "      <td>1364400</td>\n",
              "    </tr>\n",
              "    <tr>\n",
              "      <th>2019-02-22</th>\n",
              "      <td>95.000000</td>\n",
              "      <td>95.400002</td>\n",
              "      <td>94.489998</td>\n",
              "      <td>95.389999</td>\n",
              "      <td>87.577545</td>\n",
              "      <td>1932100</td>\n",
              "    </tr>\n",
              "    <tr>\n",
              "      <th>2019-02-25</th>\n",
              "      <td>95.699997</td>\n",
              "      <td>95.699997</td>\n",
              "      <td>93.180000</td>\n",
              "      <td>93.500000</td>\n",
              "      <td>85.842323</td>\n",
              "      <td>2204500</td>\n",
              "    </tr>\n",
              "  </tbody>\n",
              "</table>\n",
              "</div>\n",
              "    <div class=\"colab-df-buttons\">\n",
              "\n",
              "  <div class=\"colab-df-container\">\n",
              "    <button class=\"colab-df-convert\" onclick=\"convertToInteractive('df-168a1159-0e36-4528-8726-60d43cbc1dbd')\"\n",
              "            title=\"Convert this dataframe to an interactive table.\"\n",
              "            style=\"display:none;\">\n",
              "\n",
              "  <svg xmlns=\"http://www.w3.org/2000/svg\" height=\"24px\" viewBox=\"0 -960 960 960\">\n",
              "    <path d=\"M120-120v-720h720v720H120Zm60-500h600v-160H180v160Zm220 220h160v-160H400v160Zm0 220h160v-160H400v160ZM180-400h160v-160H180v160Zm440 0h160v-160H620v160ZM180-180h160v-160H180v160Zm440 0h160v-160H620v160Z\"/>\n",
              "  </svg>\n",
              "    </button>\n",
              "\n",
              "  <style>\n",
              "    .colab-df-container {\n",
              "      display:flex;\n",
              "      gap: 12px;\n",
              "    }\n",
              "\n",
              "    .colab-df-convert {\n",
              "      background-color: #E8F0FE;\n",
              "      border: none;\n",
              "      border-radius: 50%;\n",
              "      cursor: pointer;\n",
              "      display: none;\n",
              "      fill: #1967D2;\n",
              "      height: 32px;\n",
              "      padding: 0 0 0 0;\n",
              "      width: 32px;\n",
              "    }\n",
              "\n",
              "    .colab-df-convert:hover {\n",
              "      background-color: #E2EBFA;\n",
              "      box-shadow: 0px 1px 2px rgba(60, 64, 67, 0.3), 0px 1px 3px 1px rgba(60, 64, 67, 0.15);\n",
              "      fill: #174EA6;\n",
              "    }\n",
              "\n",
              "    .colab-df-buttons div {\n",
              "      margin-bottom: 4px;\n",
              "    }\n",
              "\n",
              "    [theme=dark] .colab-df-convert {\n",
              "      background-color: #3B4455;\n",
              "      fill: #D2E3FC;\n",
              "    }\n",
              "\n",
              "    [theme=dark] .colab-df-convert:hover {\n",
              "      background-color: #434B5C;\n",
              "      box-shadow: 0px 1px 3px 1px rgba(0, 0, 0, 0.15);\n",
              "      filter: drop-shadow(0px 1px 2px rgba(0, 0, 0, 0.3));\n",
              "      fill: #FFFFFF;\n",
              "    }\n",
              "  </style>\n",
              "\n",
              "    <script>\n",
              "      const buttonEl =\n",
              "        document.querySelector('#df-168a1159-0e36-4528-8726-60d43cbc1dbd button.colab-df-convert');\n",
              "      buttonEl.style.display =\n",
              "        google.colab.kernel.accessAllowed ? 'block' : 'none';\n",
              "\n",
              "      async function convertToInteractive(key) {\n",
              "        const element = document.querySelector('#df-168a1159-0e36-4528-8726-60d43cbc1dbd');\n",
              "        const dataTable =\n",
              "          await google.colab.kernel.invokeFunction('convertToInteractive',\n",
              "                                                    [key], {});\n",
              "        if (!dataTable) return;\n",
              "\n",
              "        const docLinkHtml = 'Like what you see? Visit the ' +\n",
              "          '<a target=\"_blank\" href=https://colab.research.google.com/notebooks/data_table.ipynb>data table notebook</a>'\n",
              "          + ' to learn more about interactive tables.';\n",
              "        element.innerHTML = '';\n",
              "        dataTable['output_type'] = 'display_data';\n",
              "        await google.colab.output.renderOutput(dataTable, element);\n",
              "        const docLink = document.createElement('div');\n",
              "        docLink.innerHTML = docLinkHtml;\n",
              "        element.appendChild(docLink);\n",
              "      }\n",
              "    </script>\n",
              "  </div>\n",
              "\n",
              "\n",
              "<div id=\"df-cdc6c8f8-6f31-400d-805d-d0b5272b7a84\">\n",
              "  <button class=\"colab-df-quickchart\" onclick=\"quickchart('df-cdc6c8f8-6f31-400d-805d-d0b5272b7a84')\"\n",
              "            title=\"Suggest charts\"\n",
              "            style=\"display:none;\">\n",
              "\n",
              "<svg xmlns=\"http://www.w3.org/2000/svg\" height=\"24px\"viewBox=\"0 0 24 24\"\n",
              "     width=\"24px\">\n",
              "    <g>\n",
              "        <path d=\"M19 3H5c-1.1 0-2 .9-2 2v14c0 1.1.9 2 2 2h14c1.1 0 2-.9 2-2V5c0-1.1-.9-2-2-2zM9 17H7v-7h2v7zm4 0h-2V7h2v10zm4 0h-2v-4h2v4z\"/>\n",
              "    </g>\n",
              "</svg>\n",
              "  </button>\n",
              "\n",
              "<style>\n",
              "  .colab-df-quickchart {\n",
              "      --bg-color: #E8F0FE;\n",
              "      --fill-color: #1967D2;\n",
              "      --hover-bg-color: #E2EBFA;\n",
              "      --hover-fill-color: #174EA6;\n",
              "      --disabled-fill-color: #AAA;\n",
              "      --disabled-bg-color: #DDD;\n",
              "  }\n",
              "\n",
              "  [theme=dark] .colab-df-quickchart {\n",
              "      --bg-color: #3B4455;\n",
              "      --fill-color: #D2E3FC;\n",
              "      --hover-bg-color: #434B5C;\n",
              "      --hover-fill-color: #FFFFFF;\n",
              "      --disabled-bg-color: #3B4455;\n",
              "      --disabled-fill-color: #666;\n",
              "  }\n",
              "\n",
              "  .colab-df-quickchart {\n",
              "    background-color: var(--bg-color);\n",
              "    border: none;\n",
              "    border-radius: 50%;\n",
              "    cursor: pointer;\n",
              "    display: none;\n",
              "    fill: var(--fill-color);\n",
              "    height: 32px;\n",
              "    padding: 0;\n",
              "    width: 32px;\n",
              "  }\n",
              "\n",
              "  .colab-df-quickchart:hover {\n",
              "    background-color: var(--hover-bg-color);\n",
              "    box-shadow: 0 1px 2px rgba(60, 64, 67, 0.3), 0 1px 3px 1px rgba(60, 64, 67, 0.15);\n",
              "    fill: var(--button-hover-fill-color);\n",
              "  }\n",
              "\n",
              "  .colab-df-quickchart-complete:disabled,\n",
              "  .colab-df-quickchart-complete:disabled:hover {\n",
              "    background-color: var(--disabled-bg-color);\n",
              "    fill: var(--disabled-fill-color);\n",
              "    box-shadow: none;\n",
              "  }\n",
              "\n",
              "  .colab-df-spinner {\n",
              "    border: 2px solid var(--fill-color);\n",
              "    border-color: transparent;\n",
              "    border-bottom-color: var(--fill-color);\n",
              "    animation:\n",
              "      spin 1s steps(1) infinite;\n",
              "  }\n",
              "\n",
              "  @keyframes spin {\n",
              "    0% {\n",
              "      border-color: transparent;\n",
              "      border-bottom-color: var(--fill-color);\n",
              "      border-left-color: var(--fill-color);\n",
              "    }\n",
              "    20% {\n",
              "      border-color: transparent;\n",
              "      border-left-color: var(--fill-color);\n",
              "      border-top-color: var(--fill-color);\n",
              "    }\n",
              "    30% {\n",
              "      border-color: transparent;\n",
              "      border-left-color: var(--fill-color);\n",
              "      border-top-color: var(--fill-color);\n",
              "      border-right-color: var(--fill-color);\n",
              "    }\n",
              "    40% {\n",
              "      border-color: transparent;\n",
              "      border-right-color: var(--fill-color);\n",
              "      border-top-color: var(--fill-color);\n",
              "    }\n",
              "    60% {\n",
              "      border-color: transparent;\n",
              "      border-right-color: var(--fill-color);\n",
              "    }\n",
              "    80% {\n",
              "      border-color: transparent;\n",
              "      border-right-color: var(--fill-color);\n",
              "      border-bottom-color: var(--fill-color);\n",
              "    }\n",
              "    90% {\n",
              "      border-color: transparent;\n",
              "      border-bottom-color: var(--fill-color);\n",
              "    }\n",
              "  }\n",
              "</style>\n",
              "\n",
              "  <script>\n",
              "    async function quickchart(key) {\n",
              "      const quickchartButtonEl =\n",
              "        document.querySelector('#' + key + ' button');\n",
              "      quickchartButtonEl.disabled = true;  // To prevent multiple clicks.\n",
              "      quickchartButtonEl.classList.add('colab-df-spinner');\n",
              "      try {\n",
              "        const charts = await google.colab.kernel.invokeFunction(\n",
              "            'suggestCharts', [key], {});\n",
              "      } catch (error) {\n",
              "        console.error('Error during call to suggestCharts:', error);\n",
              "      }\n",
              "      quickchartButtonEl.classList.remove('colab-df-spinner');\n",
              "      quickchartButtonEl.classList.add('colab-df-quickchart-complete');\n",
              "    }\n",
              "    (() => {\n",
              "      let quickchartButtonEl =\n",
              "        document.querySelector('#df-cdc6c8f8-6f31-400d-805d-d0b5272b7a84 button');\n",
              "      quickchartButtonEl.style.display =\n",
              "        google.colab.kernel.accessAllowed ? 'block' : 'none';\n",
              "    })();\n",
              "  </script>\n",
              "</div>\n",
              "\n",
              "    </div>\n",
              "  </div>\n"
            ],
            "application/vnd.google.colaboratory.intrinsic+json": {
              "type": "dataframe",
              "variable_name": "data",
              "summary": "{\n  \"name\": \"data\",\n  \"rows\": 1259,\n  \"fields\": [\n    {\n      \"column\": \"Open\",\n      \"properties\": {\n        \"dtype\": \"number\",\n        \"std\": 15.260536027933904,\n        \"min\": 57.2400016784668,\n        \"max\": 142.14999389648438,\n        \"samples\": [\n          134.88999938964844,\n          112.2300033569336,\n          103.80000305175781\n        ],\n        \"num_unique_values\": 1116,\n        \"semantic_type\": \"\",\n        \"description\": \"\"\n      }\n    },\n    {\n      \"column\": \"High\",\n      \"properties\": {\n        \"dtype\": \"number\",\n        \"std\": 15.177346874191466,\n        \"min\": 58.209999084472656,\n        \"max\": 143.25,\n        \"samples\": [\n          125.48999786376953,\n          133.1300048828125,\n          101.83999633789062\n        ],\n        \"num_unique_values\": 1107,\n        \"semantic_type\": \"\",\n        \"description\": \"\"\n      }\n    },\n    {\n      \"column\": \"Low\",\n      \"properties\": {\n        \"dtype\": \"number\",\n        \"std\": 15.378171572246302,\n        \"min\": 54.95000076293945,\n        \"max\": 140.9600067138672,\n        \"samples\": [\n          106.79000091552734,\n          117.41000366210938,\n          100.41000366210938\n        ],\n        \"num_unique_values\": 1111,\n        \"semantic_type\": \"\",\n        \"description\": \"\"\n      }\n    },\n    {\n      \"column\": \"Close\",\n      \"properties\": {\n        \"dtype\": \"number\",\n        \"std\": 15.258664042608924,\n        \"min\": 56.52000045776367,\n        \"max\": 142.89999389648438,\n        \"samples\": [\n          137.27000427246094,\n          113.05999755859375,\n          105.33999633789062\n        ],\n        \"num_unique_values\": 1121,\n        \"semantic_type\": \"\",\n        \"description\": \"\"\n      }\n    },\n    {\n      \"column\": \"Adj Close\",\n      \"properties\": {\n        \"dtype\": \"number\",\n        \"std\": 16.739999568330543,\n        \"min\": 52.75737762451172,\n        \"max\": 140.90650939941406,\n        \"samples\": [\n          113.50740051269531,\n          132.18429565429688,\n          96.9552230834961\n        ],\n        \"num_unique_values\": 1230,\n        \"semantic_type\": \"\",\n        \"description\": \"\"\n      }\n    },\n    {\n      \"column\": \"Volume\",\n      \"properties\": {\n        \"dtype\": \"number\",\n        \"std\": 871155,\n        \"min\": 340400,\n        \"max\": 14610100,\n        \"samples\": [\n          829600,\n          4238900,\n          833200\n        ],\n        \"num_unique_values\": 1217,\n        \"semantic_type\": \"\",\n        \"description\": \"\"\n      }\n    }\n  ]\n}"
            }
          },
          "metadata": {},
          "execution_count": 6
        }
      ]
    },
    {
      "cell_type": "code",
      "source": [
        "len(data)"
      ],
      "metadata": {
        "colab": {
          "base_uri": "https://localhost:8080/"
        },
        "id": "J2sjZDai7Suv",
        "outputId": "ab34a19e-c4af-432e-a7c4-4cf70db424dd"
      },
      "execution_count": 7,
      "outputs": [
        {
          "output_type": "execute_result",
          "data": {
            "text/plain": [
              "1259"
            ]
          },
          "metadata": {},
          "execution_count": 7
        }
      ]
    },
    {
      "cell_type": "code",
      "source": [
        "data.tail()"
      ],
      "metadata": {
        "colab": {
          "base_uri": "https://localhost:8080/",
          "height": 238
        },
        "id": "aTvV4EHf7Uy_",
        "outputId": "81e5da87-90b9-4aff-a22d-c65a3086e8f4"
      },
      "execution_count": 8,
      "outputs": [
        {
          "output_type": "execute_result",
          "data": {
            "text/plain": [
              "                  Open        High         Low       Close   Adj Close  \\\n",
              "Date                                                                     \n",
              "2024-02-12  130.279999  131.960007  130.279999  131.360001  131.360001   \n",
              "2024-02-13  130.500000  131.210007  129.789993  131.210007  131.210007   \n",
              "2024-02-14  131.600006  134.250000  131.429993  134.009995  134.009995   \n",
              "2024-02-15  134.000000  135.610001  133.869995  135.399994  135.399994   \n",
              "2024-02-16  135.229996  135.850006  134.399994  134.550003  134.550003   \n",
              "\n",
              "             Volume  \n",
              "Date                 \n",
              "2024-02-12  1849000  \n",
              "2024-02-13  1765700  \n",
              "2024-02-14  2803100  \n",
              "2024-02-15  3128200  \n",
              "2024-02-16  2565900  "
            ],
            "text/html": [
              "\n",
              "  <div id=\"df-19fc66fe-5829-47df-a7c1-187a7afbdf7e\" class=\"colab-df-container\">\n",
              "    <div>\n",
              "<style scoped>\n",
              "    .dataframe tbody tr th:only-of-type {\n",
              "        vertical-align: middle;\n",
              "    }\n",
              "\n",
              "    .dataframe tbody tr th {\n",
              "        vertical-align: top;\n",
              "    }\n",
              "\n",
              "    .dataframe thead th {\n",
              "        text-align: right;\n",
              "    }\n",
              "</style>\n",
              "<table border=\"1\" class=\"dataframe\">\n",
              "  <thead>\n",
              "    <tr style=\"text-align: right;\">\n",
              "      <th></th>\n",
              "      <th>Open</th>\n",
              "      <th>High</th>\n",
              "      <th>Low</th>\n",
              "      <th>Close</th>\n",
              "      <th>Adj Close</th>\n",
              "      <th>Volume</th>\n",
              "    </tr>\n",
              "    <tr>\n",
              "      <th>Date</th>\n",
              "      <th></th>\n",
              "      <th></th>\n",
              "      <th></th>\n",
              "      <th></th>\n",
              "      <th></th>\n",
              "      <th></th>\n",
              "    </tr>\n",
              "  </thead>\n",
              "  <tbody>\n",
              "    <tr>\n",
              "      <th>2024-02-12</th>\n",
              "      <td>130.279999</td>\n",
              "      <td>131.960007</td>\n",
              "      <td>130.279999</td>\n",
              "      <td>131.360001</td>\n",
              "      <td>131.360001</td>\n",
              "      <td>1849000</td>\n",
              "    </tr>\n",
              "    <tr>\n",
              "      <th>2024-02-13</th>\n",
              "      <td>130.500000</td>\n",
              "      <td>131.210007</td>\n",
              "      <td>129.789993</td>\n",
              "      <td>131.210007</td>\n",
              "      <td>131.210007</td>\n",
              "      <td>1765700</td>\n",
              "    </tr>\n",
              "    <tr>\n",
              "      <th>2024-02-14</th>\n",
              "      <td>131.600006</td>\n",
              "      <td>134.250000</td>\n",
              "      <td>131.429993</td>\n",
              "      <td>134.009995</td>\n",
              "      <td>134.009995</td>\n",
              "      <td>2803100</td>\n",
              "    </tr>\n",
              "    <tr>\n",
              "      <th>2024-02-15</th>\n",
              "      <td>134.000000</td>\n",
              "      <td>135.610001</td>\n",
              "      <td>133.869995</td>\n",
              "      <td>135.399994</td>\n",
              "      <td>135.399994</td>\n",
              "      <td>3128200</td>\n",
              "    </tr>\n",
              "    <tr>\n",
              "      <th>2024-02-16</th>\n",
              "      <td>135.229996</td>\n",
              "      <td>135.850006</td>\n",
              "      <td>134.399994</td>\n",
              "      <td>134.550003</td>\n",
              "      <td>134.550003</td>\n",
              "      <td>2565900</td>\n",
              "    </tr>\n",
              "  </tbody>\n",
              "</table>\n",
              "</div>\n",
              "    <div class=\"colab-df-buttons\">\n",
              "\n",
              "  <div class=\"colab-df-container\">\n",
              "    <button class=\"colab-df-convert\" onclick=\"convertToInteractive('df-19fc66fe-5829-47df-a7c1-187a7afbdf7e')\"\n",
              "            title=\"Convert this dataframe to an interactive table.\"\n",
              "            style=\"display:none;\">\n",
              "\n",
              "  <svg xmlns=\"http://www.w3.org/2000/svg\" height=\"24px\" viewBox=\"0 -960 960 960\">\n",
              "    <path d=\"M120-120v-720h720v720H120Zm60-500h600v-160H180v160Zm220 220h160v-160H400v160Zm0 220h160v-160H400v160ZM180-400h160v-160H180v160Zm440 0h160v-160H620v160ZM180-180h160v-160H180v160Zm440 0h160v-160H620v160Z\"/>\n",
              "  </svg>\n",
              "    </button>\n",
              "\n",
              "  <style>\n",
              "    .colab-df-container {\n",
              "      display:flex;\n",
              "      gap: 12px;\n",
              "    }\n",
              "\n",
              "    .colab-df-convert {\n",
              "      background-color: #E8F0FE;\n",
              "      border: none;\n",
              "      border-radius: 50%;\n",
              "      cursor: pointer;\n",
              "      display: none;\n",
              "      fill: #1967D2;\n",
              "      height: 32px;\n",
              "      padding: 0 0 0 0;\n",
              "      width: 32px;\n",
              "    }\n",
              "\n",
              "    .colab-df-convert:hover {\n",
              "      background-color: #E2EBFA;\n",
              "      box-shadow: 0px 1px 2px rgba(60, 64, 67, 0.3), 0px 1px 3px 1px rgba(60, 64, 67, 0.15);\n",
              "      fill: #174EA6;\n",
              "    }\n",
              "\n",
              "    .colab-df-buttons div {\n",
              "      margin-bottom: 4px;\n",
              "    }\n",
              "\n",
              "    [theme=dark] .colab-df-convert {\n",
              "      background-color: #3B4455;\n",
              "      fill: #D2E3FC;\n",
              "    }\n",
              "\n",
              "    [theme=dark] .colab-df-convert:hover {\n",
              "      background-color: #434B5C;\n",
              "      box-shadow: 0px 1px 3px 1px rgba(0, 0, 0, 0.15);\n",
              "      filter: drop-shadow(0px 1px 2px rgba(0, 0, 0, 0.3));\n",
              "      fill: #FFFFFF;\n",
              "    }\n",
              "  </style>\n",
              "\n",
              "    <script>\n",
              "      const buttonEl =\n",
              "        document.querySelector('#df-19fc66fe-5829-47df-a7c1-187a7afbdf7e button.colab-df-convert');\n",
              "      buttonEl.style.display =\n",
              "        google.colab.kernel.accessAllowed ? 'block' : 'none';\n",
              "\n",
              "      async function convertToInteractive(key) {\n",
              "        const element = document.querySelector('#df-19fc66fe-5829-47df-a7c1-187a7afbdf7e');\n",
              "        const dataTable =\n",
              "          await google.colab.kernel.invokeFunction('convertToInteractive',\n",
              "                                                    [key], {});\n",
              "        if (!dataTable) return;\n",
              "\n",
              "        const docLinkHtml = 'Like what you see? Visit the ' +\n",
              "          '<a target=\"_blank\" href=https://colab.research.google.com/notebooks/data_table.ipynb>data table notebook</a>'\n",
              "          + ' to learn more about interactive tables.';\n",
              "        element.innerHTML = '';\n",
              "        dataTable['output_type'] = 'display_data';\n",
              "        await google.colab.output.renderOutput(dataTable, element);\n",
              "        const docLink = document.createElement('div');\n",
              "        docLink.innerHTML = docLinkHtml;\n",
              "        element.appendChild(docLink);\n",
              "      }\n",
              "    </script>\n",
              "  </div>\n",
              "\n",
              "\n",
              "<div id=\"df-c455b8e9-e655-4ea2-8c79-95c47bfd175e\">\n",
              "  <button class=\"colab-df-quickchart\" onclick=\"quickchart('df-c455b8e9-e655-4ea2-8c79-95c47bfd175e')\"\n",
              "            title=\"Suggest charts\"\n",
              "            style=\"display:none;\">\n",
              "\n",
              "<svg xmlns=\"http://www.w3.org/2000/svg\" height=\"24px\"viewBox=\"0 0 24 24\"\n",
              "     width=\"24px\">\n",
              "    <g>\n",
              "        <path d=\"M19 3H5c-1.1 0-2 .9-2 2v14c0 1.1.9 2 2 2h14c1.1 0 2-.9 2-2V5c0-1.1-.9-2-2-2zM9 17H7v-7h2v7zm4 0h-2V7h2v10zm4 0h-2v-4h2v4z\"/>\n",
              "    </g>\n",
              "</svg>\n",
              "  </button>\n",
              "\n",
              "<style>\n",
              "  .colab-df-quickchart {\n",
              "      --bg-color: #E8F0FE;\n",
              "      --fill-color: #1967D2;\n",
              "      --hover-bg-color: #E2EBFA;\n",
              "      --hover-fill-color: #174EA6;\n",
              "      --disabled-fill-color: #AAA;\n",
              "      --disabled-bg-color: #DDD;\n",
              "  }\n",
              "\n",
              "  [theme=dark] .colab-df-quickchart {\n",
              "      --bg-color: #3B4455;\n",
              "      --fill-color: #D2E3FC;\n",
              "      --hover-bg-color: #434B5C;\n",
              "      --hover-fill-color: #FFFFFF;\n",
              "      --disabled-bg-color: #3B4455;\n",
              "      --disabled-fill-color: #666;\n",
              "  }\n",
              "\n",
              "  .colab-df-quickchart {\n",
              "    background-color: var(--bg-color);\n",
              "    border: none;\n",
              "    border-radius: 50%;\n",
              "    cursor: pointer;\n",
              "    display: none;\n",
              "    fill: var(--fill-color);\n",
              "    height: 32px;\n",
              "    padding: 0;\n",
              "    width: 32px;\n",
              "  }\n",
              "\n",
              "  .colab-df-quickchart:hover {\n",
              "    background-color: var(--hover-bg-color);\n",
              "    box-shadow: 0 1px 2px rgba(60, 64, 67, 0.3), 0 1px 3px 1px rgba(60, 64, 67, 0.15);\n",
              "    fill: var(--button-hover-fill-color);\n",
              "  }\n",
              "\n",
              "  .colab-df-quickchart-complete:disabled,\n",
              "  .colab-df-quickchart-complete:disabled:hover {\n",
              "    background-color: var(--disabled-bg-color);\n",
              "    fill: var(--disabled-fill-color);\n",
              "    box-shadow: none;\n",
              "  }\n",
              "\n",
              "  .colab-df-spinner {\n",
              "    border: 2px solid var(--fill-color);\n",
              "    border-color: transparent;\n",
              "    border-bottom-color: var(--fill-color);\n",
              "    animation:\n",
              "      spin 1s steps(1) infinite;\n",
              "  }\n",
              "\n",
              "  @keyframes spin {\n",
              "    0% {\n",
              "      border-color: transparent;\n",
              "      border-bottom-color: var(--fill-color);\n",
              "      border-left-color: var(--fill-color);\n",
              "    }\n",
              "    20% {\n",
              "      border-color: transparent;\n",
              "      border-left-color: var(--fill-color);\n",
              "      border-top-color: var(--fill-color);\n",
              "    }\n",
              "    30% {\n",
              "      border-color: transparent;\n",
              "      border-left-color: var(--fill-color);\n",
              "      border-top-color: var(--fill-color);\n",
              "      border-right-color: var(--fill-color);\n",
              "    }\n",
              "    40% {\n",
              "      border-color: transparent;\n",
              "      border-right-color: var(--fill-color);\n",
              "      border-top-color: var(--fill-color);\n",
              "    }\n",
              "    60% {\n",
              "      border-color: transparent;\n",
              "      border-right-color: var(--fill-color);\n",
              "    }\n",
              "    80% {\n",
              "      border-color: transparent;\n",
              "      border-right-color: var(--fill-color);\n",
              "      border-bottom-color: var(--fill-color);\n",
              "    }\n",
              "    90% {\n",
              "      border-color: transparent;\n",
              "      border-bottom-color: var(--fill-color);\n",
              "    }\n",
              "  }\n",
              "</style>\n",
              "\n",
              "  <script>\n",
              "    async function quickchart(key) {\n",
              "      const quickchartButtonEl =\n",
              "        document.querySelector('#' + key + ' button');\n",
              "      quickchartButtonEl.disabled = true;  // To prevent multiple clicks.\n",
              "      quickchartButtonEl.classList.add('colab-df-spinner');\n",
              "      try {\n",
              "        const charts = await google.colab.kernel.invokeFunction(\n",
              "            'suggestCharts', [key], {});\n",
              "      } catch (error) {\n",
              "        console.error('Error during call to suggestCharts:', error);\n",
              "      }\n",
              "      quickchartButtonEl.classList.remove('colab-df-spinner');\n",
              "      quickchartButtonEl.classList.add('colab-df-quickchart-complete');\n",
              "    }\n",
              "    (() => {\n",
              "      let quickchartButtonEl =\n",
              "        document.querySelector('#df-c455b8e9-e655-4ea2-8c79-95c47bfd175e button');\n",
              "      quickchartButtonEl.style.display =\n",
              "        google.colab.kernel.accessAllowed ? 'block' : 'none';\n",
              "    })();\n",
              "  </script>\n",
              "</div>\n",
              "\n",
              "    </div>\n",
              "  </div>\n"
            ],
            "application/vnd.google.colaboratory.intrinsic+json": {
              "type": "dataframe",
              "summary": "{\n  \"name\": \"data\",\n  \"rows\": 5,\n  \"fields\": [\n    {\n      \"column\": \"Open\",\n      \"properties\": {\n        \"dtype\": \"number\",\n        \"std\": 2.1956121767800383,\n        \"min\": 130.27999877929688,\n        \"max\": 135.22999572753906,\n        \"samples\": [\n          130.5,\n          135.22999572753906,\n          131.60000610351562\n        ],\n        \"num_unique_values\": 5,\n        \"semantic_type\": \"\",\n        \"description\": \"\"\n      }\n    },\n    {\n      \"column\": \"High\",\n      \"properties\": {\n        \"dtype\": \"number\",\n        \"std\": 2.1078358994396926,\n        \"min\": 131.2100067138672,\n        \"max\": 135.85000610351562,\n        \"samples\": [\n          131.2100067138672,\n          135.85000610351562,\n          134.25\n        ],\n        \"num_unique_values\": 5,\n        \"semantic_type\": \"\",\n        \"description\": \"\"\n      }\n    },\n    {\n      \"column\": \"Low\",\n      \"properties\": {\n        \"dtype\": \"number\",\n        \"std\": 2.0864870147571075,\n        \"min\": 129.7899932861328,\n        \"max\": 134.39999389648438,\n        \"samples\": [\n          129.7899932861328,\n          134.39999389648438,\n          131.42999267578125\n        ],\n        \"num_unique_values\": 5,\n        \"semantic_type\": \"\",\n        \"description\": \"\"\n      }\n    },\n    {\n      \"column\": \"Close\",\n      \"properties\": {\n        \"dtype\": \"number\",\n        \"std\": 1.9110248413467419,\n        \"min\": 131.2100067138672,\n        \"max\": 135.39999389648438,\n        \"samples\": [\n          131.2100067138672,\n          134.5500030517578,\n          134.00999450683594\n        ],\n        \"num_unique_values\": 5,\n        \"semantic_type\": \"\",\n        \"description\": \"\"\n      }\n    },\n    {\n      \"column\": \"Adj Close\",\n      \"properties\": {\n        \"dtype\": \"number\",\n        \"std\": 1.9110248413467419,\n        \"min\": 131.2100067138672,\n        \"max\": 135.39999389648438,\n        \"samples\": [\n          131.2100067138672,\n          134.5500030517578,\n          134.00999450683594\n        ],\n        \"num_unique_values\": 5,\n        \"semantic_type\": \"\",\n        \"description\": \"\"\n      }\n    },\n    {\n      \"column\": \"Volume\",\n      \"properties\": {\n        \"dtype\": \"number\",\n        \"std\": 596598,\n        \"min\": 1765700,\n        \"max\": 3128200,\n        \"samples\": [\n          1765700,\n          2565900,\n          2803100\n        ],\n        \"num_unique_values\": 5,\n        \"semantic_type\": \"\",\n        \"description\": \"\"\n      }\n    }\n  ]\n}"
            }
          },
          "metadata": {},
          "execution_count": 8
        }
      ]
    },
    {
      "cell_type": "code",
      "source": [
        "opn = data[['Open']]"
      ],
      "metadata": {
        "id": "xIFie08z7WXL"
      },
      "execution_count": 9,
      "outputs": []
    },
    {
      "cell_type": "code",
      "source": [
        "opn.plot()"
      ],
      "metadata": {
        "colab": {
          "base_uri": "https://localhost:8080/",
          "height": 440
        },
        "id": "mrCfsTOz7a-u",
        "outputId": "1427fd3e-3476-42b6-c42e-e16cfa29008d"
      },
      "execution_count": 10,
      "outputs": [
        {
          "output_type": "execute_result",
          "data": {
            "text/plain": [
              "<Axes: xlabel='Date'>"
            ]
          },
          "metadata": {},
          "execution_count": 10
        },
        {
          "output_type": "display_data",
          "data": {
            "text/plain": [
              "<Figure size 640x480 with 1 Axes>"
            ],
            "image/png": "[encoded data removed]"
          },
          "metadata": {}
        }
      ]
    },
    {
      "cell_type": "code",
      "source": [
        "import matplotlib.pyplot as plt"
      ],
      "metadata": {
        "id": "bYgCavGr7dSm"
      },
      "execution_count": 11,
      "outputs": []
    },
    {
      "cell_type": "code",
      "source": [
        "ds = opn.values"
      ],
      "metadata": {
        "id": "FRkpgug47fBo"
      },
      "execution_count": 12,
      "outputs": []
    },
    {
      "cell_type": "code",
      "source": [
        "ds"
      ],
      "metadata": {
        "colab": {
          "base_uri": "https://localhost:8080/"
        },
        "id": "AKP8py6M7fs9",
        "outputId": "c940307d-ace1-4287-b1ff-14a05bc62992"
      },
      "execution_count": 13,
      "outputs": [
        {
          "output_type": "execute_result",
          "data": {
            "text/plain": [
              "array([[ 94.25      ],\n",
              "       [ 94.66999817],\n",
              "       [ 94.52999878],\n",
              "       ...,\n",
              "       [131.6000061 ],\n",
              "       [134.        ],\n",
              "       [135.22999573]])"
            ]
          },
          "metadata": {},
          "execution_count": 13
        }
      ]
    },
    {
      "cell_type": "code",
      "source": [
        "plt.plot(ds)"
      ],
      "metadata": {
        "colab": {
          "base_uri": "https://localhost:8080/",
          "height": 448
        },
        "id": "m5tAS0Dc7gtB",
        "outputId": "77a47009-d991-4269-ef0f-e93f2f2bd167"
      },
      "execution_count": 14,
      "outputs": [
        {
          "output_type": "execute_result",
          "data": {
            "text/plain": [
              "[<matplotlib.lines.Line2D at 0x7e622ecbfd30>]"
            ]
          },
          "metadata": {},
          "execution_count": 14
        },
        {
          "output_type": "display_data",
          "data": {
            "text/plain": [
              "<Figure size 640x480 with 1 Axes>"
            ],
            "image/png": "[encoded data removed]"
          },
          "metadata": {}
        }
      ]
    },
    {
      "cell_type": "code",
      "source": [
        "import numpy as np"
      ],
      "metadata": {
        "id": "A1UgBnvv7iKr"
      },
      "execution_count": 15,
      "outputs": []
    },
    {
      "cell_type": "code",
      "source": [
        "from sklearn.preprocessing import MinMaxScaler"
      ],
      "metadata": {
        "id": "V9DCpseJ7jhA"
      },
      "execution_count": 16,
      "outputs": []
    },
    {
      "cell_type": "code",
      "source": [
        "normalizer = MinMaxScaler(feature_range=(0,1))\n",
        "ds_scaled = normalizer.fit_transform(np.array(ds).reshape(-1,1))"
      ],
      "metadata": {
        "id": "804WDE9G7krH"
      },
      "execution_count": 17,
      "outputs": []
    },
    {
      "cell_type": "code",
      "source": [
        "len(ds_scaled), len(ds)"
      ],
      "metadata": {
        "colab": {
          "base_uri": "https://localhost:8080/"
        },
        "id": "LXOkm3r07mF6",
        "outputId": "1d5f37a0-7ffe-422a-ce33-af64e45cb331"
      },
      "execution_count": 18,
      "outputs": [
        {
          "output_type": "execute_result",
          "data": {
            "text/plain": [
              "(1259, 1259)"
            ]
          },
          "metadata": {},
          "execution_count": 18
        }
      ]
    },
    {
      "cell_type": "code",
      "source": [
        "train_size = int(len(ds_scaled)*0.70)\n",
        "test_size = len(ds_scaled) - train_size"
      ],
      "metadata": {
        "id": "sIDyDgOf7nSc"
      },
      "execution_count": 19,
      "outputs": []
    },
    {
      "cell_type": "code",
      "source": [
        "train_size,test_size"
      ],
      "metadata": {
        "colab": {
          "base_uri": "https://localhost:8080/"
        },
        "id": "RjJmVYaF7pK2",
        "outputId": "36849b63-04fc-4aa1-d973-18a6da4155e9"
      },
      "execution_count": 20,
      "outputs": [
        {
          "output_type": "execute_result",
          "data": {
            "text/plain": [
              "(881, 378)"
            ]
          },
          "metadata": {},
          "execution_count": 20
        }
      ]
    },
    {
      "cell_type": "code",
      "source": [
        "\n",
        "ds_train, ds_test = ds_scaled[0:train_size,:], ds_scaled[train_size:len(ds_scaled),:1]"
      ],
      "metadata": {
        "id": "7HdTNiBA7sHj"
      },
      "execution_count": 21,
      "outputs": []
    },
    {
      "cell_type": "code",
      "source": [
        "def create_ds(dataset,step):\n",
        "    Xtrain, Ytrain = [], []\n",
        "    for i in range(len(dataset)-step-1):\n",
        "        a = dataset[i:(i+step), 0]\n",
        "        Xtrain.append(a)\n",
        "        Ytrain.append(dataset[i + step, 0])\n",
        "    return np.array(Xtrain), np.array(Ytrain)"
      ],
      "metadata": {
        "id": "mrl7c6YE7u5G"
      },
      "execution_count": 22,
      "outputs": []
    },
    {
      "cell_type": "code",
      "source": [
        "time_stamp = 100\n",
        "X_train, y_train = create_ds(ds_train,time_stamp)\n",
        "X_test, y_test = create_ds(ds_test,time_stamp)"
      ],
      "metadata": {
        "id": "QYa7Rbd97wia"
      },
      "execution_count": 23,
      "outputs": []
    },
    {
      "cell_type": "code",
      "source": [
        "X_train.shape,y_train.shape"
      ],
      "metadata": {
        "colab": {
          "base_uri": "https://localhost:8080/"
        },
        "id": "wOp8NZl-7wkP",
        "outputId": "0ca8d558-8c0c-472e-96a1-8068416ab111"
      },
      "execution_count": 24,
      "outputs": [
        {
          "output_type": "execute_result",
          "data": {
            "text/plain": [
              "((780, 100), (780,))"
            ]
          },
          "metadata": {},
          "execution_count": 24
        }
      ]
    },
    {
      "cell_type": "code",
      "source": [
        "X_test.shape, y_test.shape"
      ],
      "metadata": {
        "colab": {
          "base_uri": "https://localhost:8080/"
        },
        "id": "3QWEynDx7yVh",
        "outputId": "f582fea9-4211-4b8c-9c81-ed8e4d7152ad"
      },
      "execution_count": 25,
      "outputs": [
        {
          "output_type": "execute_result",
          "data": {
            "text/plain": [
              "((277, 100), (277,))"
            ]
          },
          "metadata": {},
          "execution_count": 25
        }
      ]
    },
    {
      "cell_type": "code",
      "source": [
        "X_train = X_train.reshape(X_train.shape[0],X_train.shape[1] , 1)\n",
        "X_test = X_test.reshape(X_test.shape[0],X_test.shape[1] , 1)"
      ],
      "metadata": {
        "id": "pkmzXtvT7z2L"
      },
      "execution_count": 26,
      "outputs": []
    },
    {
      "cell_type": "code",
      "source": [
        "from keras.models import Sequential\n",
        "from keras.layers import Dense, LSTM"
      ],
      "metadata": {
        "id": "Se3eJjLm71H-"
      },
      "execution_count": 27,
      "outputs": []
    },
    {
      "cell_type": "code",
      "source": [
        "model = Sequential()\n",
        "model.add(LSTM(units=50,return_sequences=True,input_shape=(X_train.shape[1],1)))\n",
        "model.add(LSTM(units=50,return_sequences=True))\n",
        "model.add(LSTM(units=50))\n",
        "model.add(Dense(units=1,activation='linear'))\n",
        "model.summary()"
      ],
      "metadata": {
        "colab": {
          "base_uri": "https://localhost:8080/"
        },
        "id": "8NvglzPX72nN",
        "outputId": "463b971b-9cc1-4f62-84f8-709e0b4a5c49"
      },
      "execution_count": 28,
      "outputs": [
        {
          "output_type": "stream",
          "name": "stdout",
          "text": [
            "Model: \"sequential\"\n",
            "_________________________________________________________________\n",
            " Layer (type)                Output Shape              Param #   \n",
            "=================================================================\n",
            " lstm (LSTM)                 (None, 100, 50)           10400     \n",
            "                                                                 \n",
            " lstm_1 (LSTM)               (None, 100, 50)           20200     \n",
            "                                                                 \n",
            " lstm_2 (LSTM)               (None, 50)                20200     \n",
            "                                                                 \n",
            " dense (Dense)               (None, 1)                 51        \n",
            "                                                                 \n",
            "=================================================================\n",
            "Total params: 50851 (198.64 KB)\n",
            "Trainable params: 50851 (198.64 KB)\n",
            "Non-trainable params: 0 (0.00 Byte)\n",
            "_________________________________________________________________\n"
          ]
        }
      ]
    },
    {
      "cell_type": "code",
      "source": [
        "model.compile(loss='mean_squared_error',optimizer='adam')\n",
        "model.fit(X_train,y_train,validation_data=(X_test,y_test),epochs=100,batch_size=64)"
      ],
      "metadata": {
        "colab": {
          "base_uri": "https://localhost:8080/"
        },
        "id": "4oAaMD-774qp",
        "outputId": "e5a044d6-60ae-4ab1-96cc-77e68f1e8fd8"
      },
      "execution_count": 29,
      "outputs": [
        {
          "output_type": "stream",
          "name": "stdout",
          "text": [
            "Epoch 1/100\n",
            "13/13 [==============================] - 6s 172ms/step - loss: 0.1551 - val_loss: 0.0064\n",
            "Epoch 2/100\n",
            "13/13 [==============================] - 1s 101ms/step - loss: 0.0160 - val_loss: 0.0029\n",
            "Epoch 3/100\n",
            "13/13 [==============================] - 1s 103ms/step - loss: 0.0096 - val_loss: 0.0210\n",
            "Epoch 4/100\n",
            "13/13 [==============================] - 1s 100ms/step - loss: 0.0068 - val_loss: 0.0056\n",
            "Epoch 5/100\n",
            "13/13 [==============================] - 1s 101ms/step - loss: 0.0055 - val_loss: 0.0026\n",
            "Epoch 6/100\n",
            "13/13 [==============================] - 1s 115ms/step - loss: 0.0046 - val_loss: 0.0021\n",
            "Epoch 7/100\n",
            "13/13 [==============================] - 2s 118ms/step - loss: 0.0039 - val_loss: 0.0020\n",
            "Epoch 8/100\n",
            "13/13 [==============================] - 1s 101ms/step - loss: 0.0037 - val_loss: 0.0016\n",
            "Epoch 9/100\n",
            "13/13 [==============================] - 2s 150ms/step - loss: 0.0034 - val_loss: 0.0013\n",
            "Epoch 10/100\n",
            "13/13 [==============================] - 3s 196ms/step - loss: 0.0034 - val_loss: 0.0014\n",
            "Epoch 11/100\n",
            "13/13 [==============================] - 1s 103ms/step - loss: 0.0032 - val_loss: 0.0017\n",
            "Epoch 12/100\n",
            "13/13 [==============================] - 1s 103ms/step - loss: 0.0033 - val_loss: 0.0013\n",
            "Epoch 13/100\n",
            "13/13 [==============================] - 2s 125ms/step - loss: 0.0031 - val_loss: 0.0012\n",
            "Epoch 14/100\n",
            "13/13 [==============================] - 1s 102ms/step - loss: 0.0030 - val_loss: 0.0014\n",
            "Epoch 15/100\n",
            "13/13 [==============================] - 1s 103ms/step - loss: 0.0029 - val_loss: 0.0015\n",
            "Epoch 16/100\n",
            "13/13 [==============================] - 1s 100ms/step - loss: 0.0028 - val_loss: 0.0014\n",
            "Epoch 17/100\n",
            "13/13 [==============================] - 1s 99ms/step - loss: 0.0028 - val_loss: 0.0019\n",
            "Epoch 18/100\n",
            "13/13 [==============================] - 1s 101ms/step - loss: 0.0029 - val_loss: 0.0011\n",
            "Epoch 19/100\n",
            "13/13 [==============================] - 1s 99ms/step - loss: 0.0028 - val_loss: 0.0011\n",
            "Epoch 20/100\n",
            "13/13 [==============================] - 1s 101ms/step - loss: 0.0026 - val_loss: 0.0018\n",
            "Epoch 21/100\n",
            "13/13 [==============================] - 1s 111ms/step - loss: 0.0026 - val_loss: 0.0028\n",
            "Epoch 22/100\n",
            "13/13 [==============================] - 2s 121ms/step - loss: 0.0031 - val_loss: 0.0018\n",
            "Epoch 23/100\n",
            "13/13 [==============================] - 1s 99ms/step - loss: 0.0029 - val_loss: 0.0020\n",
            "Epoch 24/100\n",
            "13/13 [==============================] - 1s 101ms/step - loss: 0.0023 - val_loss: 0.0011\n",
            "Epoch 25/100\n",
            "13/13 [==============================] - 1s 100ms/step - loss: 0.0022 - val_loss: 0.0012\n",
            "Epoch 26/100\n",
            "13/13 [==============================] - 1s 101ms/step - loss: 0.0021 - val_loss: 9.6594e-04\n",
            "Epoch 27/100\n",
            "13/13 [==============================] - 1s 101ms/step - loss: 0.0021 - val_loss: 0.0011\n",
            "Epoch 28/100\n",
            "13/13 [==============================] - 1s 100ms/step - loss: 0.0020 - val_loss: 0.0011\n",
            "Epoch 29/100\n",
            "13/13 [==============================] - 1s 100ms/step - loss: 0.0020 - val_loss: 9.0017e-04\n",
            "Epoch 30/100\n",
            "13/13 [==============================] - 2s 136ms/step - loss: 0.0021 - val_loss: 0.0010\n",
            "Epoch 31/100\n",
            "13/13 [==============================] - 1s 101ms/step - loss: 0.0020 - val_loss: 0.0020\n",
            "Epoch 32/100\n",
            "13/13 [==============================] - 1s 101ms/step - loss: 0.0020 - val_loss: 0.0011\n",
            "Epoch 33/100\n",
            "13/13 [==============================] - 1s 100ms/step - loss: 0.0019 - val_loss: 8.6753e-04\n",
            "Epoch 34/100\n",
            "13/13 [==============================] - 1s 98ms/step - loss: 0.0018 - val_loss: 0.0020\n",
            "Epoch 35/100\n",
            "13/13 [==============================] - 1s 102ms/step - loss: 0.0018 - val_loss: 8.6682e-04\n",
            "Epoch 36/100\n",
            "13/13 [==============================] - 1s 100ms/step - loss: 0.0017 - val_loss: 8.8749e-04\n",
            "Epoch 37/100\n",
            "13/13 [==============================] - 1s 101ms/step - loss: 0.0017 - val_loss: 0.0015\n",
            "Epoch 38/100\n",
            "13/13 [==============================] - 2s 135ms/step - loss: 0.0018 - val_loss: 0.0010\n",
            "Epoch 39/100\n",
            "13/13 [==============================] - 2s 134ms/step - loss: 0.0017 - val_loss: 0.0012\n",
            "Epoch 40/100\n",
            "13/13 [==============================] - 2s 186ms/step - loss: 0.0016 - val_loss: 7.9453e-04\n",
            "Epoch 41/100\n",
            "13/13 [==============================] - 2s 194ms/step - loss: 0.0017 - val_loss: 8.4434e-04\n",
            "Epoch 42/100\n",
            "13/13 [==============================] - 2s 182ms/step - loss: 0.0016 - val_loss: 0.0017\n",
            "Epoch 43/100\n",
            "13/13 [==============================] - 3s 240ms/step - loss: 0.0018 - val_loss: 7.5355e-04\n",
            "Epoch 44/100\n",
            "13/13 [==============================] - 2s 129ms/step - loss: 0.0015 - val_loss: 0.0026\n",
            "Epoch 45/100\n",
            "13/13 [==============================] - 1s 101ms/step - loss: 0.0019 - val_loss: 8.3508e-04\n",
            "Epoch 46/100\n",
            "13/13 [==============================] - 1s 102ms/step - loss: 0.0015 - val_loss: 7.3054e-04\n",
            "Epoch 47/100\n",
            "13/13 [==============================] - 1s 101ms/step - loss: 0.0014 - val_loss: 8.7543e-04\n",
            "Epoch 48/100\n",
            "13/13 [==============================] - 1s 101ms/step - loss: 0.0014 - val_loss: 0.0017\n",
            "Epoch 49/100\n",
            "13/13 [==============================] - 1s 101ms/step - loss: 0.0015 - val_loss: 0.0021\n",
            "Epoch 50/100\n",
            "13/13 [==============================] - 1s 112ms/step - loss: 0.0016 - val_loss: 0.0012\n",
            "Epoch 51/100\n",
            "13/13 [==============================] - 2s 116ms/step - loss: 0.0013 - val_loss: 7.5780e-04\n",
            "Epoch 52/100\n",
            "13/13 [==============================] - 1s 100ms/step - loss: 0.0013 - val_loss: 7.6577e-04\n",
            "Epoch 53/100\n",
            "13/13 [==============================] - 1s 101ms/step - loss: 0.0013 - val_loss: 6.8937e-04\n",
            "Epoch 54/100\n",
            "13/13 [==============================] - 1s 100ms/step - loss: 0.0013 - val_loss: 6.7504e-04\n",
            "Epoch 55/100\n",
            "13/13 [==============================] - 1s 97ms/step - loss: 0.0013 - val_loss: 6.8721e-04\n",
            "Epoch 56/100\n",
            "13/13 [==============================] - 1s 101ms/step - loss: 0.0012 - val_loss: 6.9275e-04\n",
            "Epoch 57/100\n",
            "13/13 [==============================] - 1s 101ms/step - loss: 0.0012 - val_loss: 6.7095e-04\n",
            "Epoch 58/100\n",
            "13/13 [==============================] - 1s 100ms/step - loss: 0.0012 - val_loss: 9.5660e-04\n",
            "Epoch 59/100\n",
            "13/13 [==============================] - 2s 133ms/step - loss: 0.0011 - val_loss: 7.5279e-04\n",
            "Epoch 60/100\n",
            "13/13 [==============================] - 1s 99ms/step - loss: 0.0011 - val_loss: 6.4262e-04\n",
            "Epoch 61/100\n",
            "13/13 [==============================] - 1s 101ms/step - loss: 0.0012 - val_loss: 6.3555e-04\n",
            "Epoch 62/100\n",
            "13/13 [==============================] - 1s 100ms/step - loss: 0.0012 - val_loss: 6.5352e-04\n",
            "Epoch 63/100\n",
            "13/13 [==============================] - 1s 99ms/step - loss: 0.0011 - val_loss: 7.9737e-04\n",
            "Epoch 64/100\n",
            "13/13 [==============================] - 1s 100ms/step - loss: 0.0011 - val_loss: 6.1682e-04\n",
            "Epoch 65/100\n",
            "13/13 [==============================] - 1s 102ms/step - loss: 0.0010 - val_loss: 5.9665e-04\n",
            "Epoch 66/100\n",
            "13/13 [==============================] - 1s 103ms/step - loss: 0.0010 - val_loss: 5.9312e-04\n",
            "Epoch 67/100\n",
            "13/13 [==============================] - 2s 138ms/step - loss: 0.0011 - val_loss: 5.9896e-04\n",
            "Epoch 68/100\n",
            "13/13 [==============================] - 1s 102ms/step - loss: 0.0010 - val_loss: 0.0010\n",
            "Epoch 69/100\n",
            "13/13 [==============================] - 1s 99ms/step - loss: 0.0011 - val_loss: 0.0012\n",
            "Epoch 70/100\n",
            "13/13 [==============================] - 1s 100ms/step - loss: 0.0010 - val_loss: 5.7509e-04\n",
            "Epoch 71/100\n",
            "13/13 [==============================] - 1s 101ms/step - loss: 9.9632e-04 - val_loss: 9.2101e-04\n",
            "Epoch 72/100\n",
            "13/13 [==============================] - 1s 102ms/step - loss: 0.0012 - val_loss: 5.7414e-04\n",
            "Epoch 73/100\n",
            "13/13 [==============================] - 1s 102ms/step - loss: 0.0010 - val_loss: 5.5714e-04\n",
            "Epoch 74/100\n",
            "13/13 [==============================] - 1s 101ms/step - loss: 9.7264e-04 - val_loss: 5.5286e-04\n",
            "Epoch 75/100\n",
            "13/13 [==============================] - 2s 135ms/step - loss: 9.8253e-04 - val_loss: 5.4775e-04\n",
            "Epoch 76/100\n",
            "13/13 [==============================] - 1s 105ms/step - loss: 9.3660e-04 - val_loss: 6.5780e-04\n",
            "Epoch 77/100\n",
            "13/13 [==============================] - 1s 103ms/step - loss: 9.1865e-04 - val_loss: 5.6091e-04\n",
            "Epoch 78/100\n",
            "13/13 [==============================] - 1s 103ms/step - loss: 0.0010 - val_loss: 5.4898e-04\n",
            "Epoch 79/100\n",
            "13/13 [==============================] - 1s 103ms/step - loss: 9.0860e-04 - val_loss: 8.4317e-04\n",
            "Epoch 80/100\n",
            "13/13 [==============================] - 1s 101ms/step - loss: 9.1116e-04 - val_loss: 6.2125e-04\n",
            "Epoch 81/100\n",
            "13/13 [==============================] - 1s 102ms/step - loss: 9.0588e-04 - val_loss: 0.0010\n",
            "Epoch 82/100\n",
            "13/13 [==============================] - 1s 102ms/step - loss: 0.0010 - val_loss: 6.2780e-04\n",
            "Epoch 83/100\n",
            "13/13 [==============================] - 2s 129ms/step - loss: 9.4799e-04 - val_loss: 6.0601e-04\n",
            "Epoch 84/100\n",
            "13/13 [==============================] - 1s 109ms/step - loss: 8.8175e-04 - val_loss: 5.3327e-04\n",
            "Epoch 85/100\n",
            "13/13 [==============================] - 1s 103ms/step - loss: 9.0250e-04 - val_loss: 0.0013\n",
            "Epoch 86/100\n",
            "13/13 [==============================] - 1s 102ms/step - loss: 8.7824e-04 - val_loss: 4.8435e-04\n",
            "Epoch 87/100\n",
            "13/13 [==============================] - 1s 101ms/step - loss: 8.5140e-04 - val_loss: 7.0481e-04\n",
            "Epoch 88/100\n",
            "13/13 [==============================] - 1s 100ms/step - loss: 8.9402e-04 - val_loss: 7.8080e-04\n",
            "Epoch 89/100\n",
            "13/13 [==============================] - 1s 103ms/step - loss: 8.9722e-04 - val_loss: 4.7387e-04\n",
            "Epoch 90/100\n",
            "13/13 [==============================] - 1s 102ms/step - loss: 9.2370e-04 - val_loss: 0.0011\n",
            "Epoch 91/100\n",
            "13/13 [==============================] - 2s 121ms/step - loss: 9.1408e-04 - val_loss: 4.8227e-04\n",
            "Epoch 92/100\n",
            "13/13 [==============================] - 2s 139ms/step - loss: 8.8220e-04 - val_loss: 0.0012\n",
            "Epoch 93/100\n",
            "13/13 [==============================] - 1s 101ms/step - loss: 9.5392e-04 - val_loss: 0.0022\n",
            "Epoch 94/100\n",
            "13/13 [==============================] - 1s 103ms/step - loss: 0.0011 - val_loss: 0.0023\n",
            "Epoch 95/100\n",
            "13/13 [==============================] - 1s 100ms/step - loss: 0.0011 - val_loss: 7.0657e-04\n",
            "Epoch 96/100\n",
            "13/13 [==============================] - 1s 102ms/step - loss: 9.0421e-04 - val_loss: 4.5003e-04\n",
            "Epoch 97/100\n",
            "13/13 [==============================] - 1s 102ms/step - loss: 7.9453e-04 - val_loss: 4.7565e-04\n",
            "Epoch 98/100\n",
            "13/13 [==============================] - 1s 102ms/step - loss: 7.7194e-04 - val_loss: 4.5523e-04\n",
            "Epoch 99/100\n",
            "13/13 [==============================] - 2s 135ms/step - loss: 7.7941e-04 - val_loss: 6.0386e-04\n",
            "Epoch 100/100\n",
            "13/13 [==============================] - 1s 100ms/step - loss: 9.2145e-04 - val_loss: 5.0499e-04\n"
          ]
        },
        {
          "output_type": "execute_result",
          "data": {
            "text/plain": [
              "<keras.src.callbacks.History at 0x7e61d1b88e50>"
            ]
          },
          "metadata": {},
          "execution_count": 29
        }
      ]
    },
    {
      "cell_type": "code",
      "source": [
        "loss = model.history.history['loss']\n",
        "plt.plot(loss)"
      ],
      "metadata": {
        "colab": {
          "base_uri": "https://localhost:8080/",
          "height": 448
        },
        "id": "Ka9hwoTC78II",
        "outputId": "1c148539-67d2-4b1a-ebd1-a6b3046afabb"
      },
      "execution_count": 30,
      "outputs": [
        {
          "output_type": "execute_result",
          "data": {
            "text/plain": [
              "[<matplotlib.lines.Line2D at 0x7e61c09e1030>]"
            ]
          },
          "metadata": {},
          "execution_count": 30
        },
        {
          "output_type": "display_data",
          "data": {
            "text/plain": [
              "<Figure size 640x480 with 1 Axes>"
            ],
            "image/png": "[encoded data removed]"
          },
          "metadata": {}
        }
      ]
    },
    {
      "cell_type": "code",
      "source": [
        "train_predict = model.predict(X_train)\n",
        "test_predict = model.predict(X_test)"
      ],
      "metadata": {
        "colab": {
          "base_uri": "https://localhost:8080/"
        },
        "id": "wFqayskF9llL",
        "outputId": "e1adbc58-e192-4cad-94e0-28ede161c74c"
      },
      "execution_count": 31,
      "outputs": [
        {
          "output_type": "stream",
          "name": "stdout",
          "text": [
            "25/25 [==============================] - 1s 21ms/step\n",
            "9/9 [==============================] - 0s 20ms/step\n"
          ]
        }
      ]
    },
    {
      "cell_type": "code",
      "source": [
        "train_predict = normalizer.inverse_transform(train_predict)\n",
        "test_predict = normalizer.inverse_transform(test_predict)"
      ],
      "metadata": {
        "id": "Es41yR-b9ntZ"
      },
      "execution_count": 32,
      "outputs": []
    },
    {
      "cell_type": "code",
      "source": [
        "plt.plot(normalizer.inverse_transform(ds_scaled))\n",
        "plt.plot(train_predict)\n",
        "plt.plot(test_predict)"
      ],
      "metadata": {
        "colab": {
          "base_uri": "https://localhost:8080/",
          "height": 448
        },
        "id": "qUM-IixQ9p52",
        "outputId": "be1bb1b5-f8ed-481d-bcf9-f55f9c45cff5"
      },
      "execution_count": 33,
      "outputs": [
        {
          "output_type": "execute_result",
          "data": {
            "text/plain": [
              "[<matplotlib.lines.Line2D at 0x7e61d231cd60>]"
            ]
          },
          "metadata": {},
          "execution_count": 33
        },
        {
          "output_type": "display_data",
          "data": {
            "text/plain": [
              "<Figure size 640x480 with 1 Axes>"
            ],
            "image/png": "[encoded data removed]"
          },
          "metadata": {}
        }
      ]
    },
    {
      "cell_type": "code",
      "source": [
        "type(train_predict)"
      ],
      "metadata": {
        "colab": {
          "base_uri": "https://localhost:8080/"
        },
        "id": "VL3XF7uD9rpW",
        "outputId": "8f989c24-dcd9-4347-9a0e-7e16966542d7"
      },
      "execution_count": 34,
      "outputs": [
        {
          "output_type": "execute_result",
          "data": {
            "text/plain": [
              "numpy.ndarray"
            ]
          },
          "metadata": {},
          "execution_count": 34
        }
      ]
    },
    {
      "cell_type": "code",
      "source": [
        "test = np.vstack((train_predict,test_predict))"
      ],
      "metadata": {
        "id": "5R0TAlre9sGD"
      },
      "execution_count": 35,
      "outputs": []
    },
    {
      "cell_type": "code",
      "source": [
        "plt.plot(normalizer.inverse_transform(ds_scaled))\n",
        "plt.plot(test)"
      ],
      "metadata": {
        "colab": {
          "base_uri": "https://localhost:8080/",
          "height": 448
        },
        "id": "WmAtr7b39tXw",
        "outputId": "6fc733d8-2a36-478a-e6b9-bb91d62d58cc"
      },
      "execution_count": 36,
      "outputs": [
        {
          "output_type": "execute_result",
          "data": {
            "text/plain": [
              "[<matplotlib.lines.Line2D at 0x7e61d21a8df0>]"
            ]
          },
          "metadata": {},
          "execution_count": 36
        },
        {
          "output_type": "display_data",
          "data": {
            "text/plain": [
              "<Figure size 640x480 with 1 Axes>"
            ],
            "image/png": "[encoded data removed]"
          },
          "metadata": {}
        }
      ]
    },
    {
      "cell_type": "code",
      "source": [
        "len(ds_test)"
      ],
      "metadata": {
        "colab": {
          "base_uri": "https://localhost:8080/"
        },
        "id": "hvWZAp6t9upW",
        "outputId": "62cf2b72-8c98-43f4-d0ad-d1854799a191"
      },
      "execution_count": 37,
      "outputs": [
        {
          "output_type": "execute_result",
          "data": {
            "text/plain": [
              "378"
            ]
          },
          "metadata": {},
          "execution_count": 37
        }
      ]
    },
    {
      "cell_type": "code",
      "source": [
        "fut_inp = ds_test[278:]"
      ],
      "metadata": {
        "id": "jkb7a6Xk9wCz"
      },
      "execution_count": 38,
      "outputs": []
    },
    {
      "cell_type": "code",
      "source": [
        "fut_inp = fut_inp.reshape(1,-1)"
      ],
      "metadata": {
        "id": "PEQW3WhA9xnL"
      },
      "execution_count": 39,
      "outputs": []
    },
    {
      "cell_type": "code",
      "source": [
        "tmp_inp = list(fut_inp)"
      ],
      "metadata": {
        "id": "ghpIOce69y13"
      },
      "execution_count": 40,
      "outputs": []
    },
    {
      "cell_type": "code",
      "source": [
        "fut_inp.shape"
      ],
      "metadata": {
        "colab": {
          "base_uri": "https://localhost:8080/"
        },
        "id": "RVOVoipi99Go",
        "outputId": "a0c4c890-15a7-4da2-ad5d-3a26cade55ae"
      },
      "execution_count": 41,
      "outputs": [
        {
          "output_type": "execute_result",
          "data": {
            "text/plain": [
              "(1, 100)"
            ]
          },
          "metadata": {},
          "execution_count": 41
        }
      ]
    },
    {
      "cell_type": "code",
      "source": [
        "tmp_inp = tmp_inp[0].tolist()"
      ],
      "metadata": {
        "id": "zwusUDuC9_wo"
      },
      "execution_count": 42,
      "outputs": []
    },
    {
      "cell_type": "code",
      "source": [
        "lst_output=[]\n",
        "n_steps=100\n",
        "i=0\n",
        "while(i<30):\n",
        "\n",
        "    if(len(tmp_inp)>100):\n",
        "        fut_inp = np.array(tmp_inp[1:])\n",
        "        fut_inp=fut_inp.reshape(1,-1)\n",
        "        fut_inp = fut_inp.reshape((1, n_steps, 1))\n",
        "        yhat = model.predict(fut_inp, verbose=0)\n",
        "        tmp_inp.extend(yhat[0].tolist())\n",
        "        tmp_inp = tmp_inp[1:]\n",
        "        lst_output.extend(yhat.tolist())\n",
        "        i=i+1\n",
        "    else:\n",
        "        fut_inp = fut_inp.reshape((1, n_steps,1))\n",
        "        yhat = model.predict(fut_inp, verbose=0)\n",
        "        tmp_inp.extend(yhat[0].tolist())\n",
        "        lst_output.extend(yhat.tolist())\n",
        "        i=i+1\n",
        "\n",
        "\n",
        "print(lst_output)"
      ],
      "metadata": {
        "colab": {
          "base_uri": "https://localhost:8080/"
        },
        "id": "hVm1Cx4t-AMu",
        "outputId": "69ac451c-9e46-47b2-90e9-a68e70c61863"
      },
      "execution_count": 43,
      "outputs": [
        {
          "output_type": "stream",
          "name": "stdout",
          "text": [
            "[[0.9101629257202148], [0.9211731553077698], [0.9279239773750305], [0.932758629322052], [0.9367536902427673], [0.9402547478675842], [0.9433901309967041], [0.9462615251541138], [0.9489660859107971], [0.9515789151191711], [0.9541469216346741], [0.9566873908042908], [0.9591954946517944], [0.9616490006446838], [0.9640182256698608], [0.9662693738937378], [0.968370795249939], [0.9702965617179871], [0.9720280766487122], [0.9735562205314636], [0.974880039691925], [0.9760069251060486], [0.9769511818885803], [0.9777315855026245], [0.9783697724342346], [0.9788891673088074], [0.9793117642402649], [0.9796594977378845], [0.9799509048461914], [0.980201780796051]]\n"
          ]
        }
      ]
    },
    {
      "cell_type": "code",
      "source": [
        "len(ds_scaled)\n"
      ],
      "metadata": {
        "colab": {
          "base_uri": "https://localhost:8080/"
        },
        "id": "rZO7d0lA-HVI",
        "outputId": "452af7a2-3498-4e08-d862-da1211c5181f"
      },
      "execution_count": 44,
      "outputs": [
        {
          "output_type": "execute_result",
          "data": {
            "text/plain": [
              "1259"
            ]
          },
          "metadata": {},
          "execution_count": 44
        }
      ]
    },
    {
      "cell_type": "code",
      "source": [
        "plot_new=np.arange(1,101)\n",
        "plot_pred=np.arange(101,131)"
      ],
      "metadata": {
        "id": "E1_JZWBG-M8P"
      },
      "execution_count": 45,
      "outputs": []
    },
    {
      "cell_type": "code",
      "source": [
        "plt.plot(plot_new, normalizer.inverse_transform(ds_scaled[1159:]))\n",
        "plt.plot(plot_pred, normalizer.inverse_transform(lst_output))\n"
      ],
      "metadata": {
        "colab": {
          "base_uri": "https://localhost:8080/",
          "height": 448
        },
        "id": "HJnFkjWb-NC7",
        "outputId": "0182764b-c7d1-4161-a3bc-066aada4063f"
      },
      "execution_count": 46,
      "outputs": [
        {
          "output_type": "execute_result",
          "data": {
            "text/plain": [
              "[<matplotlib.lines.Line2D at 0x7e61d222f5b0>]"
            ]
          },
          "metadata": {},
          "execution_count": 46
        },
        {
          "output_type": "display_data",
          "data": {
            "text/plain": [
              "<Figure size 640x480 with 1 Axes>"
            ],
            "image/png": "[encoded data removed]"
          },
          "metadata": {}
        }
      ]
    },
    {
      "cell_type": "code",
      "source": [
        "ds_new = ds_scaled.tolist()"
      ],
      "metadata": {
        "id": "wqGWdrZ3_Drb"
      },
      "execution_count": 47,
      "outputs": []
    },
    {
      "cell_type": "code",
      "source": [
        "len(ds_new)\n"
      ],
      "metadata": {
        "colab": {
          "base_uri": "https://localhost:8080/"
        },
        "id": "Lmd-EB4O_FG7",
        "outputId": "fe56b156-36e0-4476-93cd-36546373b0b7"
      },
      "execution_count": 48,
      "outputs": [
        {
          "output_type": "execute_result",
          "data": {
            "text/plain": [
              "1259"
            ]
          },
          "metadata": {},
          "execution_count": 48
        }
      ]
    },
    {
      "cell_type": "code",
      "source": [
        "ds_new.extend(lst_output)\n",
        "plt.plot(ds_new[1200:])"
      ],
      "metadata": {
        "colab": {
          "base_uri": "https://localhost:8080/",
          "height": 448
        },
        "id": "MJVF0xxD_GzE",
        "outputId": "a8989e24-26dc-4e9a-e639-f16134c53f88"
      },
      "execution_count": 49,
      "outputs": [
        {
          "output_type": "execute_result",
          "data": {
            "text/plain": [
              "[<matplotlib.lines.Line2D at 0x7e61d22167d0>]"
            ]
          },
          "metadata": {},
          "execution_count": 49
        },
        {
          "output_type": "display_data",
          "data": {
            "text/plain": [
              "<Figure size 640x480 with 1 Axes>"
            ],
            "image/png": "[encoded data removed]"
          },
          "metadata": {}
        }
      ]
    },
    {
      "cell_type": "code",
      "source": [
        "final_graph = normalizer.inverse_transform(ds_new).tolist()\n"
      ],
      "metadata": {
        "id": "wHYp_SiR_Jdo"
      },
      "execution_count": 50,
      "outputs": []
    },
    {
      "cell_type": "code",
      "source": [],
      "metadata": {
        "id": "cTUZXOZg_Lnx"
      },
      "execution_count": 50,
      "outputs": []
    },
    {
      "cell_type": "code",
      "source": [],
      "metadata": {
        "id": "u2tF4-Tb_LpJ"
      },
      "execution_count": 50,
      "outputs": []
    },
    {
      "cell_type": "code",
      "source": [
        "plt.plot(final_graph,)\n",
        "plt.ylabel(\"Price\")\n",
        "plt.xlabel(\"Time\")\n",
        "plt.title(\"{0} prediction of next month open\".format(stock_symbol))\n",
        "plt.axhline(y=final_graph[len(final_graph)-1], color = 'red', linestyle = ':', label = 'NEXT 30D: {0}'.format(round(float(*final_graph[len(final_graph)-1]),2)))\n",
        "plt.legend()"
      ],
      "metadata": {
        "id": "IYLV5D-R_LuK",
        "outputId": "347fe18e-0f25-42cf-c869-213a559b4bba",
        "colab": {
          "base_uri": "https://localhost:8080/",
          "height": 490
        }
      },
      "execution_count": 51,
      "outputs": [
        {
          "output_type": "execute_result",
          "data": {
            "text/plain": [
              "<matplotlib.legend.Legend at 0x7e61d2259d80>"
            ]
          },
          "metadata": {},
          "execution_count": 51
        },
        {
          "output_type": "display_data",
          "data": {
            "text/plain": [
              "<Figure size 640x480 with 1 Axes>"
            ],
            "image/png": "[encoded data removed]"
          },
          "metadata": {}
        }
      ]
    },
    {
      "cell_type": "code",
      "source": [
        "!pip install tensorflow\n"
      ],
      "metadata": {
        "colab": {
          "base_uri": "https://localhost:8080/"
        },
        "id": "t4bW1bGKI-Zu",
        "outputId": "86dc769f-23e6-447e-aae4-5c9e4af4b0dc"
      },
      "execution_count": 53,
      "outputs": [
        {
          "output_type": "stream",
          "name": "stdout",
          "text": [
            "Requirement already satisfied: tensorflow in /usr/local/lib/python3.10/dist-packages (2.15.0)\n",
            "Requirement already satisfied: absl-py>=1.0.0 in /usr/local/lib/python3.10/dist-packages (from tensorflow) (1.4.0)\n",
            "Requirement already satisfied: astunparse>=1.6.0 in /usr/local/lib/python3.10/dist-packages (from tensorflow) (1.6.3)\n",
            "Requirement already satisfied: flatbuffers>=23.5.26 in /usr/local/lib/python3.10/dist-packages (from tensorflow) (23.5.26)\n",
            "Requirement already satisfied: gast!=0.5.0,!=0.5.1,!=0.5.2,>=0.2.1 in /usr/local/lib/python3.10/dist-packages (from tensorflow) (0.5.4)\n",
            "Requirement already satisfied: google-pasta>=0.1.1 in /usr/local/lib/python3.10/dist-packages (from tensorflow) (0.2.0)\n",
            "Requirement already satisfied: h5py>=2.9.0 in /usr/local/lib/python3.10/dist-packages (from tensorflow) (3.9.0)\n",
            "Requirement already satisfied: libclang>=13.0.0 in /usr/local/lib/python3.10/dist-packages (from tensorflow) (16.0.6)\n",
            "Requirement already satisfied: ml-dtypes~=0.2.0 in /usr/local/lib/python3.10/dist-packages (from tensorflow) (0.2.0)\n",
            "Requirement already satisfied: numpy<2.0.0,>=1.23.5 in /usr/local/lib/python3.10/dist-packages (from tensorflow) (1.25.2)\n",
            "Requirement already satisfied: opt-einsum>=2.3.2 in /usr/local/lib/python3.10/dist-packages (from tensorflow) (3.3.0)\n",
            "Requirement already satisfied: packaging in /usr/local/lib/python3.10/dist-packages (from tensorflow) (23.2)\n",
            "Requirement already satisfied: protobuf!=4.21.0,!=4.21.1,!=4.21.2,!=4.21.3,!=4.21.4,!=4.21.5,<5.0.0dev,>=3.20.3 in /usr/local/lib/python3.10/dist-packages (from tensorflow) (3.20.3)\n",
            "Requirement already satisfied: setuptools in /usr/local/lib/python3.10/dist-packages (from tensorflow) (67.7.2)\n",
            "Requirement already satisfied: six>=1.12.0 in /usr/local/lib/python3.10/dist-packages (from tensorflow) (1.16.0)\n",
            "Requirement already satisfied: termcolor>=1.1.0 in /usr/local/lib/python3.10/dist-packages (from tensorflow) (2.4.0)\n",
            "Requirement already satisfied: typing-extensions>=3.6.6 in /usr/local/lib/python3.10/dist-packages (from tensorflow) (4.9.0)\n",
            "Requirement already satisfied: wrapt<1.15,>=1.11.0 in /usr/local/lib/python3.10/dist-packages (from tensorflow) (1.14.1)\n",
            "Requirement already satisfied: tensorflow-io-gcs-filesystem>=0.23.1 in /usr/local/lib/python3.10/dist-packages (from tensorflow) (0.36.0)\n",
            "Requirement already satisfied: grpcio<2.0,>=1.24.3 in /usr/local/lib/python3.10/dist-packages (from tensorflow) (1.60.1)\n",
            "Requirement already satisfied: tensorboard<2.16,>=2.15 in /usr/local/lib/python3.10/dist-packages (from tensorflow) (2.15.2)\n",
            "Requirement already satisfied: tensorflow-estimator<2.16,>=2.15.0 in /usr/local/lib/python3.10/dist-packages (from tensorflow) (2.15.0)\n",
            "Requirement already satisfied: keras<2.16,>=2.15.0 in /usr/local/lib/python3.10/dist-packages (from tensorflow) (2.15.0)\n",
            "Requirement already satisfied: wheel<1.0,>=0.23.0 in /usr/local/lib/python3.10/dist-packages (from astunparse>=1.6.0->tensorflow) (0.42.0)\n",
            "Requirement already satisfied: google-auth<3,>=1.6.3 in /usr/local/lib/python3.10/dist-packages (from tensorboard<2.16,>=2.15->tensorflow) (2.27.0)\n",
            "Requirement already satisfied: google-auth-oauthlib<2,>=0.5 in /usr/local/lib/python3.10/dist-packages (from tensorboard<2.16,>=2.15->tensorflow) (1.2.0)\n",
            "Requirement already satisfied: markdown>=2.6.8 in /usr/local/lib/python3.10/dist-packages (from tensorboard<2.16,>=2.15->tensorflow) (3.5.2)\n",
            "Requirement already satisfied: requests<3,>=2.21.0 in /usr/local/lib/python3.10/dist-packages (from tensorboard<2.16,>=2.15->tensorflow) (2.31.0)\n",
            "Requirement already satisfied: tensorboard-data-server<0.8.0,>=0.7.0 in /usr/local/lib/python3.10/dist-packages (from tensorboard<2.16,>=2.15->tensorflow) (0.7.2)\n",
            "Requirement already satisfied: werkzeug>=1.0.1 in /usr/local/lib/python3.10/dist-packages (from tensorboard<2.16,>=2.15->tensorflow) (3.0.1)\n",
            "Requirement already satisfied: cachetools<6.0,>=2.0.0 in /usr/local/lib/python3.10/dist-packages (from google-auth<3,>=1.6.3->tensorboard<2.16,>=2.15->tensorflow) (5.3.2)\n",
            "Requirement already satisfied: pyasn1-modules>=0.2.1 in /usr/local/lib/python3.10/dist-packages (from google-auth<3,>=1.6.3->tensorboard<2.16,>=2.15->tensorflow) (0.3.0)\n",
            "Requirement already satisfied: rsa<5,>=3.1.4 in /usr/local/lib/python3.10/dist-packages (from google-auth<3,>=1.6.3->tensorboard<2.16,>=2.15->tensorflow) (4.9)\n",
            "Requirement already satisfied: requests-oauthlib>=0.7.0 in /usr/local/lib/python3.10/dist-packages (from google-auth-oauthlib<2,>=0.5->tensorboard<2.16,>=2.15->tensorflow) (1.3.1)\n",
            "Requirement already satisfied: charset-normalizer<4,>=2 in /usr/local/lib/python3.10/dist-packages (from requests<3,>=2.21.0->tensorboard<2.16,>=2.15->tensorflow) (3.3.2)\n",
            "Requirement already satisfied: idna<4,>=2.5 in /usr/local/lib/python3.10/dist-packages (from requests<3,>=2.21.0->tensorboard<2.16,>=2.15->tensorflow) (3.6)\n",
            "Requirement already satisfied: urllib3<3,>=1.21.1 in /usr/local/lib/python3.10/dist-packages (from requests<3,>=2.21.0->tensorboard<2.16,>=2.15->tensorflow) (2.0.7)\n",
            "Requirement already satisfied: certifi>=2017.4.17 in /usr/local/lib/python3.10/dist-packages (from requests<3,>=2.21.0->tensorboard<2.16,>=2.15->tensorflow) (2024.2.2)\n",
            "Requirement already satisfied: MarkupSafe>=2.1.1 in /usr/local/lib/python3.10/dist-packages (from werkzeug>=1.0.1->tensorboard<2.16,>=2.15->tensorflow) (2.1.5)\n",
            "Requirement already satisfied: pyasn1<0.6.0,>=0.4.6 in /usr/local/lib/python3.10/dist-packages (from pyasn1-modules>=0.2.1->google-auth<3,>=1.6.3->tensorboard<2.16,>=2.15->tensorflow) (0.5.1)\n",
            "Requirement already satisfied: oauthlib>=3.0.0 in /usr/local/lib/python3.10/dist-packages (from requests-oauthlib>=0.7.0->google-auth-oauthlib<2,>=0.5->tensorboard<2.16,>=2.15->tensorflow) (3.2.2)\n"
          ]
        }
      ]
    },
    {
      "cell_type": "code",
      "source": [
        "from keras.models import Sequential\n",
        "from keras.layers import Dense, LSTM\n",
        "from sklearn.base import BaseEstimator, RegressorMixin\n",
        "import numpy as np\n",
        "\n",
        "class KerasLSTMRegressor(BaseEstimator, RegressorMixin):\n",
        "    def __init__(self, units=50, num_layers=2, activation='linear', optimizer='adam', epochs=100, batch_size=64):\n",
        "        self.units = units\n",
        "        self.num_layers = num_layers\n",
        "        self.activation = activation\n",
        "        self.optimizer = optimizer\n",
        "        self.epochs = epochs\n",
        "        self.batch_size = batch_size\n",
        "        self.model = None\n",
        "\n",
        "    def create_lstm_model(self):\n",
        "        model = Sequential()\n",
        "        for i in range(self.num_layers - 1):\n",
        "            if i == 0:\n",
        "                model.add(LSTM(units=self.units, return_sequences=True, input_shape=(self.X_train.shape[1], 1)))\n",
        "            else:\n",
        "                model.add(LSTM(units=self.units, return_sequences=True))\n",
        "        model.add(LSTM(units=self.units))\n",
        "        model.add(Dense(units=1, activation=self.activation))\n",
        "        model.compile(loss='mean_squared_error', optimizer=self.optimizer)\n",
        "        return model\n",
        "\n",
        "    def fit(self, X, y):\n",
        "        self.X_train = X\n",
        "        self.y_train = y\n",
        "        self.model = self.create_lstm_model()\n",
        "        self.model.fit(X, y, epochs=self.epochs, batch_size=self.batch_size, verbose=0)\n",
        "        return self\n",
        "\n",
        "    def predict(self, X):\n",
        "        return self.model.predict(X)\n",
        "\n",
        "    def get_params(self, deep=True):\n",
        "        return {\n",
        "            'units': self.units,\n",
        "            'num_layers': self.num_layers,\n",
        "            'activation': self.activation,\n",
        "            'optimizer': self.optimizer,\n",
        "            'epochs': self.epochs,\n",
        "            'batch_size': self.batch_size\n",
        "        }\n",
        "\n",
        "    def set_params(self, **params):\n",
        "        for param, value in params.items():\n",
        "            setattr(self, param, value)\n",
        "        return self\n"
      ],
      "metadata": {
        "id": "IEAmOmawKoEd"
      },
      "execution_count": 64,
      "outputs": []
    },
    {
      "cell_type": "code",
      "source": [
        "from sklearn.model_selection import GridSearchCV\n",
        "from sklearn.metrics import make_scorer, mean_squared_error\n",
        "from sklearn.preprocessing import MinMaxScaler\n",
        "\n",
        "mse_scorer = make_scorer(mean_squared_error, greater_is_better=False)\n",
        "\n",
        "param_grid = {\n",
        "    'units': [50, 100],\n",
        "    'num_layers': [2, 3],\n",
        "    'activation': ['linear', 'relu'],\n",
        "    'optimizer': ['adam', 'rmsprop']\n",
        "}\n",
        "\n",
        "keras_lstm_regressor = KerasLSTMRegressor()\n",
        "\n",
        "# Perform grid search\n",
        "grid_search = GridSearchCV(estimator=keras_lstm_regressor, param_grid=param_grid, cv=3, scoring=mse_scorer)\n",
        "grid_search.fit(X_train, y_train)\n",
        "\n",
        "print(\"Best parameters:\", grid_search.best_params_)\n"
      ],
      "metadata": {
        "colab": {
          "base_uri": "https://localhost:8080/"
        },
        "id": "m7BlN6uEK7ia",
        "outputId": "b231d945-c530-49c8-8948-3415cec345be"
      },
      "execution_count": null,
      "outputs": [
        {
          "metadata": {
            "tags": null
          },
          "name": "stdout",
          "output_type": "stream",
          "text": [
            "9/9 [==============================] - 1s 14ms/step\n",
            "9/9 [==============================] - 1s 19ms/step\n",
            "9/9 [==============================] - 1s 15ms/step\n",
            "9/9 [==============================] - 1s 23ms/step\n",
            "9/9 [==============================] - 1s 23ms/step\n",
            "9/9 [==============================] - 1s 24ms/step\n",
            "9/9 [==============================] - 1s 13ms/step\n",
            "9/9 [==============================] - 1s 14ms/step\n",
            "9/9 [==============================] - 1s 14ms/step\n",
            "9/9 [==============================] - 1s 23ms/step\n",
            "9/9 [==============================] - 1s 24ms/step\n",
            "9/9 [==============================] - 1s 34ms/step\n",
            "9/9 [==============================] - 1s 20ms/step\n",
            "9/9 [==============================] - 1s 21ms/step\n",
            "9/9 [==============================] - 1s 20ms/step\n",
            "9/9 [==============================] - 1s 35ms/step\n",
            "9/9 [==============================] - 1s 34ms/step\n",
            "9/9 [==============================] - 1s 35ms/step\n",
            "9/9 [==============================] - 1s 19ms/step\n",
            "9/9 [==============================] - 1s 22ms/step\n",
            "9/9 [==============================] - 1s 20ms/step\n",
            "9/9 [==============================] - 1s 36ms/step\n",
            "9/9 [==============================] - 1s 38ms/step\n",
            "9/9 [==============================] - 1s 38ms/step\n",
            "9/9 [==============================] - 1s 14ms/step\n",
            "9/9 [==============================] - 1s 22ms/step\n",
            "9/9 [==============================] - 1s 13ms/step\n",
            "9/9 [==============================] - 1s 23ms/step\n",
            "9/9 [==============================] - 1s 23ms/step\n",
            "9/9 [==============================] - 1s 22ms/step\n",
            "9/9 [==============================] - 1s 14ms/step\n",
            "9/9 [==============================] - 1s 20ms/step\n",
            "9/9 [==============================] - 1s 14ms/step\n",
            "9/9 [==============================] - 1s 23ms/step\n",
            "9/9 [==============================] - 1s 24ms/step\n",
            "9/9 [==============================] - 1s 23ms/step\n",
            "9/9 [==============================] - 1s 29ms/step\n",
            "9/9 [==============================] - 1s 20ms/step\n",
            "9/9 [==============================] - 3s 31ms/step\n",
            "9/9 [==============================] - 1s 38ms/step\n",
            "9/9 [==============================] - 1s 37ms/step\n",
            "9/9 [==============================] - 1s 35ms/step\n",
            "9/9 [==============================] - 1s 19ms/step\n",
            "9/9 [==============================] - 1s 20ms/step\n"
          ]
        }
      ]
    },
    {
      "cell_type": "code",
      "source": [
        "print(\"Best parameters:\", grid_search.best_params_)\n"
      ],
      "metadata": {
        "colab": {
          "base_uri": "https://localhost:8080/"
        },
        "id": "h_YygQ1qK-AJ",
        "outputId": "7e54b7da-4155-4f5a-da99-8e0371eb826e"
      },
      "execution_count": 66,
      "outputs": [
        {
          "output_type": "stream",
          "name": "stdout",
          "text": [
            "Best parameters: {'activation': 'linear', 'num_layers': 2, 'optimizer': 'rmsprop', 'units': 100}\n"
          ]
        }
      ]
    },
    {
      "cell_type": "code",
      "source": [],
      "metadata": {
        "id": "FGEbKiGS62f8"
      },
      "execution_count": null,
      "outputs": []
    }
  ]
}