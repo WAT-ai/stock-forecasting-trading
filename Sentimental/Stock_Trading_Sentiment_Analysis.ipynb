{
  "cells": [
    {
      "cell_type": "markdown",
      "metadata": {
        "id": "view-in-github",
        "colab_type": "text"
      },
      "source": [
        "<a href=\"https://colab.research.google.com/github/WAT-ai/stock-forecasting-trading/blob/master/Stock_Trading_Sentiment_Analysis.ipynb\" target=\"_parent\"><img src=\"https://colab.research.google.com/assets/colab-badge.svg\" alt=\"Open In Colab\"/></a>"
      ]
    },
    {
      "cell_type": "code",
      "execution_count": null,
      "metadata": {
        "id": "6C1FSoigiFcO"
      },
      "outputs": [],
      "source": [
        "# Import Packages\n",
        "import csv\n",
        "import torch\n",
        "import torch.nn as nn\n",
        "import torch.nn.functional as F\n",
        "import torch.optim as optim\n",
        "import torchtext\n",
        "import numpy as np\n",
        "import matplotlib.pyplot as plt\n",
        "import pandas as pd\n",
        "from google.colab import files"
      ]
    },
    {
      "cell_type": "code",
      "execution_count": null,
      "metadata": {
        "id": "85nOmleciTzb"
      },
      "outputs": [],
      "source": [
        "# GLoVE embeddings\n",
        "glove = torchtext.vocab.GloVe(name=\"42B\", dim=300, max_vectors=50000)"
      ]
    },
    {
      "cell_type": "code",
      "execution_count": null,
      "metadata": {
        "id": "P_dKGYeC2ZxW"
      },
      "outputs": [],
      "source": [
        "fast_text = torchtext.vocab.FastText()"
      ]
    },
    {
      "cell_type": "code",
      "execution_count": null,
      "metadata": {
        "colab": {
          "base_uri": "https://localhost:8080/"
        },
        "id": "hfQQvNc240pu",
        "outputId": "63bd5174-201d-4585-eba1-d017d7a31eb2"
      },
      "outputs": [
        {
          "output_type": "stream",
          "name": "stdout",
          "text": [
            "Requirement already satisfied: kaggle in /usr/local/lib/python3.10/dist-packages (1.5.16)\n",
            "Requirement already satisfied: six>=1.10 in /usr/local/lib/python3.10/dist-packages (from kaggle) (1.16.0)\n",
            "Requirement already satisfied: certifi in /usr/local/lib/python3.10/dist-packages (from kaggle) (2023.11.17)\n",
            "Requirement already satisfied: python-dateutil in /usr/local/lib/python3.10/dist-packages (from kaggle) (2.8.2)\n",
            "Requirement already satisfied: requests in /usr/local/lib/python3.10/dist-packages (from kaggle) (2.31.0)\n",
            "Requirement already satisfied: tqdm in /usr/local/lib/python3.10/dist-packages (from kaggle) (4.66.1)\n",
            "Requirement already satisfied: python-slugify in /usr/local/lib/python3.10/dist-packages (from kaggle) (8.0.3)\n",
            "Requirement already satisfied: urllib3 in /usr/local/lib/python3.10/dist-packages (from kaggle) (2.0.7)\n",
            "Requirement already satisfied: bleach in /usr/local/lib/python3.10/dist-packages (from kaggle) (6.1.0)\n",
            "Requirement already satisfied: webencodings in /usr/local/lib/python3.10/dist-packages (from bleach->kaggle) (0.5.1)\n",
            "Requirement already satisfied: text-unidecode>=1.3 in /usr/local/lib/python3.10/dist-packages (from python-slugify->kaggle) (1.3)\n",
            "Requirement already satisfied: charset-normalizer<4,>=2 in /usr/local/lib/python3.10/dist-packages (from requests->kaggle) (3.3.2)\n",
            "Requirement already satisfied: idna<4,>=2.5 in /usr/local/lib/python3.10/dist-packages (from requests->kaggle) (3.6)\n"
          ]
        }
      ],
      "source": [
        "!pip install kaggle"
      ]
    },
    {
      "cell_type": "markdown",
      "metadata": {
        "id": "P2tsqHmdgA6F"
      },
      "source": []
    },
    {
      "cell_type": "code",
      "execution_count": null,
      "metadata": {
        "colab": {
          "base_uri": "https://localhost:8080/",
          "height": 56
        },
        "id": "NRe1LggcfKVc",
        "outputId": "aa3aa16d-b803-4c0a-f421-6b2ede4f3ad4"
      },
      "outputs": [
        {
          "output_type": "display_data",
          "data": {
            "text/plain": [
              "<IPython.core.display.HTML object>"
            ],
            "text/html": [
              "\n",
              "     <input type=\"file\" id=\"files-a1bf155e-6806-46d9-a4de-85e3aa3ef1c5\" name=\"files[]\" multiple disabled\n",
              "        style=\"border:none\" />\n",
              "     <output id=\"result-a1bf155e-6806-46d9-a4de-85e3aa3ef1c5\">\n",
              "      Upload widget is only available when the cell has been executed in the\n",
              "      current browser session. Please rerun this cell to enable.\n",
              "      </output>\n",
              "      <script>// Copyright 2017 Google LLC\n",
              "//\n",
              "// Licensed under the Apache License, Version 2.0 (the \"License\");\n",
              "// you may not use this file except in compliance with the License.\n",
              "// You may obtain a copy of the License at\n",
              "//\n",
              "//      http://www.apache.org/licenses/LICENSE-2.0\n",
              "//\n",
              "// Unless required by applicable law or agreed to in writing, software\n",
              "// distributed under the License is distributed on an \"AS IS\" BASIS,\n",
              "// WITHOUT WARRANTIES OR CONDITIONS OF ANY KIND, either express or implied.\n",
              "// See the License for the specific language governing permissions and\n",
              "// limitations under the License.\n",
              "\n",
              "/**\n",
              " * @fileoverview Helpers for google.colab Python module.\n",
              " */\n",
              "(function(scope) {\n",
              "function span(text, styleAttributes = {}) {\n",
              "  const element = document.createElement('span');\n",
              "  element.textContent = text;\n",
              "  for (const key of Object.keys(styleAttributes)) {\n",
              "    element.style[key] = styleAttributes[key];\n",
              "  }\n",
              "  return element;\n",
              "}\n",
              "\n",
              "// Max number of bytes which will be uploaded at a time.\n",
              "const MAX_PAYLOAD_SIZE = 100 * 1024;\n",
              "\n",
              "function _uploadFiles(inputId, outputId) {\n",
              "  const steps = uploadFilesStep(inputId, outputId);\n",
              "  const outputElement = document.getElementById(outputId);\n",
              "  // Cache steps on the outputElement to make it available for the next call\n",
              "  // to uploadFilesContinue from Python.\n",
              "  outputElement.steps = steps;\n",
              "\n",
              "  return _uploadFilesContinue(outputId);\n",
              "}\n",
              "\n",
              "// This is roughly an async generator (not supported in the browser yet),\n",
              "// where there are multiple asynchronous steps and the Python side is going\n",
              "// to poll for completion of each step.\n",
              "// This uses a Promise to block the python side on completion of each step,\n",
              "// then passes the result of the previous step as the input to the next step.\n",
              "function _uploadFilesContinue(outputId) {\n",
              "  const outputElement = document.getElementById(outputId);\n",
              "  const steps = outputElement.steps;\n",
              "\n",
              "  const next = steps.next(outputElement.lastPromiseValue);\n",
              "  return Promise.resolve(next.value.promise).then((value) => {\n",
              "    // Cache the last promise value to make it available to the next\n",
              "    // step of the generator.\n",
              "    outputElement.lastPromiseValue = value;\n",
              "    return next.value.response;\n",
              "  });\n",
              "}\n",
              "\n",
              "/**\n",
              " * Generator function which is called between each async step of the upload\n",
              " * process.\n",
              " * @param {string} inputId Element ID of the input file picker element.\n",
              " * @param {string} outputId Element ID of the output display.\n",
              " * @return {!Iterable<!Object>} Iterable of next steps.\n",
              " */\n",
              "function* uploadFilesStep(inputId, outputId) {\n",
              "  const inputElement = document.getElementById(inputId);\n",
              "  inputElement.disabled = false;\n",
              "\n",
              "  const outputElement = document.getElementById(outputId);\n",
              "  outputElement.innerHTML = '';\n",
              "\n",
              "  const pickedPromise = new Promise((resolve) => {\n",
              "    inputElement.addEventListener('change', (e) => {\n",
              "      resolve(e.target.files);\n",
              "    });\n",
              "  });\n",
              "\n",
              "  const cancel = document.createElement('button');\n",
              "  inputElement.parentElement.appendChild(cancel);\n",
              "  cancel.textContent = 'Cancel upload';\n",
              "  const cancelPromise = new Promise((resolve) => {\n",
              "    cancel.onclick = () => {\n",
              "      resolve(null);\n",
              "    };\n",
              "  });\n",
              "\n",
              "  // Wait for the user to pick the files.\n",
              "  const files = yield {\n",
              "    promise: Promise.race([pickedPromise, cancelPromise]),\n",
              "    response: {\n",
              "      action: 'starting',\n",
              "    }\n",
              "  };\n",
              "\n",
              "  cancel.remove();\n",
              "\n",
              "  // Disable the input element since further picks are not allowed.\n",
              "  inputElement.disabled = true;\n",
              "\n",
              "  if (!files) {\n",
              "    return {\n",
              "      response: {\n",
              "        action: 'complete',\n",
              "      }\n",
              "    };\n",
              "  }\n",
              "\n",
              "  for (const file of files) {\n",
              "    const li = document.createElement('li');\n",
              "    li.append(span(file.name, {fontWeight: 'bold'}));\n",
              "    li.append(span(\n",
              "        `(${file.type || 'n/a'}) - ${file.size} bytes, ` +\n",
              "        `last modified: ${\n",
              "            file.lastModifiedDate ? file.lastModifiedDate.toLocaleDateString() :\n",
              "                                    'n/a'} - `));\n",
              "    const percent = span('0% done');\n",
              "    li.appendChild(percent);\n",
              "\n",
              "    outputElement.appendChild(li);\n",
              "\n",
              "    const fileDataPromise = new Promise((resolve) => {\n",
              "      const reader = new FileReader();\n",
              "      reader.onload = (e) => {\n",
              "        resolve(e.target.result);\n",
              "      };\n",
              "      reader.readAsArrayBuffer(file);\n",
              "    });\n",
              "    // Wait for the data to be ready.\n",
              "    let fileData = yield {\n",
              "      promise: fileDataPromise,\n",
              "      response: {\n",
              "        action: 'continue',\n",
              "      }\n",
              "    };\n",
              "\n",
              "    // Use a chunked sending to avoid message size limits. See b/62115660.\n",
              "    let position = 0;\n",
              "    do {\n",
              "      const length = Math.min(fileData.byteLength - position, MAX_PAYLOAD_SIZE);\n",
              "      const chunk = new Uint8Array(fileData, position, length);\n",
              "      position += length;\n",
              "\n",
              "      const base64 = btoa(String.fromCharCode.apply(null, chunk));\n",
              "      yield {\n",
              "        response: {\n",
              "          action: 'append',\n",
              "          file: file.name,\n",
              "          data: base64,\n",
              "        },\n",
              "      };\n",
              "\n",
              "      let percentDone = fileData.byteLength === 0 ?\n",
              "          100 :\n",
              "          Math.round((position / fileData.byteLength) * 100);\n",
              "      percent.textContent = `${percentDone}% done`;\n",
              "\n",
              "    } while (position < fileData.byteLength);\n",
              "  }\n",
              "\n",
              "  // All done.\n",
              "  yield {\n",
              "    response: {\n",
              "      action: 'complete',\n",
              "    }\n",
              "  };\n",
              "}\n",
              "\n",
              "scope.google = scope.google || {};\n",
              "scope.google.colab = scope.google.colab || {};\n",
              "scope.google.colab._files = {\n",
              "  _uploadFiles,\n",
              "  _uploadFilesContinue,\n",
              "};\n",
              "})(self);\n",
              "</script> "
            ]
          },
          "metadata": {}
        },
        {
          "output_type": "execute_result",
          "data": {
            "text/plain": [
              "{}"
            ]
          },
          "metadata": {},
          "execution_count": 5
        }
      ],
      "source": [
        "files.upload()"
      ]
    },
    {
      "cell_type": "code",
      "execution_count": null,
      "metadata": {
        "colab": {
          "base_uri": "https://localhost:8080/"
        },
        "id": "WP_4OVVMax_u",
        "outputId": "f478c839-a782-4d76-fb5b-fc8c63fb1c56"
      },
      "outputs": [
        {
          "output_type": "stream",
          "name": "stdout",
          "text": [
            "mkdir: cannot create directory ‘.kaggle’: File exists\n"
          ]
        }
      ],
      "source": [
        "!mkdir ../root/.kaggle"
      ]
    },
    {
      "cell_type": "code",
      "execution_count": null,
      "metadata": {
        "id": "8vSso1ZTfNZn"
      },
      "outputs": [],
      "source": [
        "!cp kaggle.json ~/.kaggle/"
      ]
    },
    {
      "cell_type": "code",
      "execution_count": null,
      "metadata": {
        "id": "bRtQgIdQfTS4"
      },
      "outputs": [],
      "source": [
        "!chmod 600 ~/.kaggle/kaggle.json"
      ]
    },
    {
      "cell_type": "markdown",
      "metadata": {
        "id": "2JBqB8hGYdyt"
      },
      "source": [
        "Upload kaggle.json to root/.kaggle"
      ]
    },
    {
      "cell_type": "code",
      "execution_count": null,
      "metadata": {
        "colab": {
          "base_uri": "https://localhost:8080/"
        },
        "id": "0NxfUgNYgCKd",
        "outputId": "703d0dbe-8473-4dd2-c486-2d10b217a067"
      },
      "outputs": [
        {
          "output_type": "stream",
          "name": "stdout",
          "text": [
            "stockmarket-sentiment-dataset.zip: Skipping, found more recently modified local copy (use --force to force download)\n"
          ]
        }
      ],
      "source": [
        "!kaggle datasets download -d yash612/stockmarket-sentiment-dataset"
      ]
    },
    {
      "cell_type": "code",
      "execution_count": null,
      "metadata": {
        "id": "Ey9dB7hajJ-d",
        "colab": {
          "base_uri": "https://localhost:8080/"
        },
        "outputId": "a9b2465f-21e8-4ebe-e86d-e97511eb8a7b"
      },
      "outputs": [
        {
          "output_type": "stream",
          "name": "stdout",
          "text": [
            "sentiment-analysis-for-financial-news.zip: Skipping, found more recently modified local copy (use --force to force download)\n"
          ]
        }
      ],
      "source": [
        "!kaggle datasets download -d ankurzing/sentiment-analysis-for-financial-news"
      ]
    },
    {
      "cell_type": "code",
      "execution_count": null,
      "metadata": {
        "colab": {
          "base_uri": "https://localhost:8080/"
        },
        "id": "86Xrpf_RgVXJ",
        "outputId": "a0ecf124-883b-40c8-9a53-731d0562f6db"
      },
      "outputs": [
        {
          "output_type": "stream",
          "name": "stdout",
          "text": [
            "Archive:  stockmarket-sentiment-dataset.zip\n",
            "replace stock_data.csv? [y]es, [n]o, [A]ll, [N]one, [r]ename: "
          ]
        }
      ],
      "source": [
        "!unzip stockmarket-sentiment-dataset.zip"
      ]
    },
    {
      "cell_type": "code",
      "execution_count": null,
      "metadata": {
        "id": "yDo3iENYjQLc",
        "colab": {
          "base_uri": "https://localhost:8080/"
        },
        "outputId": "e86e5f32-6b0d-43f1-ec9c-5f743eaf4630"
      },
      "outputs": [
        {
          "output_type": "stream",
          "name": "stdout",
          "text": [
            "Archive:  sentiment-analysis-for-financial-news.zip\n",
            "replace FinancialPhraseBank/License.txt? [y]es, [n]o, [A]ll, [N]one, [r]ename: "
          ]
        }
      ],
      "source": [
        "!unzip sentiment-analysis-for-financial-news"
      ]
    },
    {
      "cell_type": "code",
      "execution_count": null,
      "metadata": {
        "id": "SusNZ2CIhr2_"
      },
      "outputs": [],
      "source": [
        "def get_data():\n",
        "    return csv.reader(open(\"stock_data.csv\", \"rt\", encoding=\"latin-1\"))"
      ]
    },
    {
      "cell_type": "code",
      "execution_count": null,
      "metadata": {
        "colab": {
          "base_uri": "https://localhost:8080/"
        },
        "id": "4X5Dh9cHmtl5",
        "outputId": "6a429053-6017-4ee5-c0ff-6ee89b93dd62"
      },
      "outputs": [
        {
          "output_type": "stream",
          "name": "stdout",
          "text": [
            "['Text', 'Sentiment']\n",
            "['Kickers on my watchlist XIDE TIT SOQ PNK CPW BPZ AJ  trade method 1 or method 2, see prev posts', '1']\n",
            "['user: AAP MOVIE. 55% return for the FEA/GEED indicator just 15 trades for the year.  AWESOME.  ', '1']\n",
            "[\"user I'd be afraid to short AMZN - they are looking like a near-monopoly in eBooks and infrastructure-as-a-service\", '1']\n",
            "['MNTA Over 12.00  ', '1']\n",
            "['OI  Over 21.37  ', '1']\n",
            "['PGNX  Over 3.04  ', '1']\n",
            "['AAP - user if so then the current downtrend will break. Otherwise just a short-term correction in med-term downtrend.', '-1']\n",
            "[\"Monday's relative weakness. NYX WIN TIE TAP ICE INT BMC AON C CHK BIIB  \", '-1']\n",
            "['GOOG - ower trend line channel test & volume support.   ', '1']\n",
            "['AAP will watch tomorrow for ONG entry.', '1']\n"
          ]
        }
      ],
      "source": [
        "for i, line in enumerate(get_data()):\n",
        "    if i > 10:\n",
        "        break\n",
        "    print(line)"
      ]
    },
    {
      "cell_type": "code",
      "execution_count": null,
      "metadata": {
        "id": "mFXdp5lDvx51"
      },
      "outputs": [],
      "source": [
        "df = pd.read_csv(\"stock_data.csv\")"
      ]
    },
    {
      "cell_type": "code",
      "execution_count": null,
      "metadata": {
        "colab": {
          "base_uri": "https://localhost:8080/",
          "height": 206
        },
        "id": "Swk7VRO5x7Jm",
        "outputId": "9831a9a6-5317-44b6-c430-9919796a6284"
      },
      "outputs": [
        {
          "output_type": "execute_result",
          "data": {
            "text/plain": [
              "                                                Text  Sentiment\n",
              "0  Kickers on my watchlist XIDE TIT SOQ PNK CPW B...          1\n",
              "1  user: AAP MOVIE. 55% return for the FEA/GEED i...          1\n",
              "2  user I'd be afraid to short AMZN - they are lo...          1\n",
              "3                                  MNTA Over 12.00            1\n",
              "4                                   OI  Over 21.37            1"
            ],
            "text/html": [
              "\n",
              "  <div id=\"df-a4e39b4e-fec2-4fb7-b70a-1c5f8ba4a318\" class=\"colab-df-container\">\n",
              "    <div>\n",
              "<style scoped>\n",
              "    .dataframe tbody tr th:only-of-type {\n",
              "        vertical-align: middle;\n",
              "    }\n",
              "\n",
              "    .dataframe tbody tr th {\n",
              "        vertical-align: top;\n",
              "    }\n",
              "\n",
              "    .dataframe thead th {\n",
              "        text-align: right;\n",
              "    }\n",
              "</style>\n",
              "<table border=\"1\" class=\"dataframe\">\n",
              "  <thead>\n",
              "    <tr style=\"text-align: right;\">\n",
              "      <th></th>\n",
              "      <th>Text</th>\n",
              "      <th>Sentiment</th>\n",
              "    </tr>\n",
              "  </thead>\n",
              "  <tbody>\n",
              "    <tr>\n",
              "      <th>0</th>\n",
              "      <td>Kickers on my watchlist XIDE TIT SOQ PNK CPW B...</td>\n",
              "      <td>1</td>\n",
              "    </tr>\n",
              "    <tr>\n",
              "      <th>1</th>\n",
              "      <td>user: AAP MOVIE. 55% return for the FEA/GEED i...</td>\n",
              "      <td>1</td>\n",
              "    </tr>\n",
              "    <tr>\n",
              "      <th>2</th>\n",
              "      <td>user I'd be afraid to short AMZN - they are lo...</td>\n",
              "      <td>1</td>\n",
              "    </tr>\n",
              "    <tr>\n",
              "      <th>3</th>\n",
              "      <td>MNTA Over 12.00</td>\n",
              "      <td>1</td>\n",
              "    </tr>\n",
              "    <tr>\n",
              "      <th>4</th>\n",
              "      <td>OI  Over 21.37</td>\n",
              "      <td>1</td>\n",
              "    </tr>\n",
              "  </tbody>\n",
              "</table>\n",
              "</div>\n",
              "    <div class=\"colab-df-buttons\">\n",
              "\n",
              "  <div class=\"colab-df-container\">\n",
              "    <button class=\"colab-df-convert\" onclick=\"convertToInteractive('df-a4e39b4e-fec2-4fb7-b70a-1c5f8ba4a318')\"\n",
              "            title=\"Convert this dataframe to an interactive table.\"\n",
              "            style=\"display:none;\">\n",
              "\n",
              "  <svg xmlns=\"http://www.w3.org/2000/svg\" height=\"24px\" viewBox=\"0 -960 960 960\">\n",
              "    <path d=\"M120-120v-720h720v720H120Zm60-500h600v-160H180v160Zm220 220h160v-160H400v160Zm0 220h160v-160H400v160ZM180-400h160v-160H180v160Zm440 0h160v-160H620v160ZM180-180h160v-160H180v160Zm440 0h160v-160H620v160Z\"/>\n",
              "  </svg>\n",
              "    </button>\n",
              "\n",
              "  <style>\n",
              "    .colab-df-container {\n",
              "      display:flex;\n",
              "      gap: 12px;\n",
              "    }\n",
              "\n",
              "    .colab-df-convert {\n",
              "      background-color: #E8F0FE;\n",
              "      border: none;\n",
              "      border-radius: 50%;\n",
              "      cursor: pointer;\n",
              "      display: none;\n",
              "      fill: #1967D2;\n",
              "      height: 32px;\n",
              "      padding: 0 0 0 0;\n",
              "      width: 32px;\n",
              "    }\n",
              "\n",
              "    .colab-df-convert:hover {\n",
              "      background-color: #E2EBFA;\n",
              "      box-shadow: 0px 1px 2px rgba(60, 64, 67, 0.3), 0px 1px 3px 1px rgba(60, 64, 67, 0.15);\n",
              "      fill: #174EA6;\n",
              "    }\n",
              "\n",
              "    .colab-df-buttons div {\n",
              "      margin-bottom: 4px;\n",
              "    }\n",
              "\n",
              "    [theme=dark] .colab-df-convert {\n",
              "      background-color: #3B4455;\n",
              "      fill: #D2E3FC;\n",
              "    }\n",
              "\n",
              "    [theme=dark] .colab-df-convert:hover {\n",
              "      background-color: #434B5C;\n",
              "      box-shadow: 0px 1px 3px 1px rgba(0, 0, 0, 0.15);\n",
              "      filter: drop-shadow(0px 1px 2px rgba(0, 0, 0, 0.3));\n",
              "      fill: #FFFFFF;\n",
              "    }\n",
              "  </style>\n",
              "\n",
              "    <script>\n",
              "      const buttonEl =\n",
              "        document.querySelector('#df-a4e39b4e-fec2-4fb7-b70a-1c5f8ba4a318 button.colab-df-convert');\n",
              "      buttonEl.style.display =\n",
              "        google.colab.kernel.accessAllowed ? 'block' : 'none';\n",
              "\n",
              "      async function convertToInteractive(key) {\n",
              "        const element = document.querySelector('#df-a4e39b4e-fec2-4fb7-b70a-1c5f8ba4a318');\n",
              "        const dataTable =\n",
              "          await google.colab.kernel.invokeFunction('convertToInteractive',\n",
              "                                                    [key], {});\n",
              "        if (!dataTable) return;\n",
              "\n",
              "        const docLinkHtml = 'Like what you see? Visit the ' +\n",
              "          '<a target=\"_blank\" href=https://colab.research.google.com/notebooks/data_table.ipynb>data table notebook</a>'\n",
              "          + ' to learn more about interactive tables.';\n",
              "        element.innerHTML = '';\n",
              "        dataTable['output_type'] = 'display_data';\n",
              "        await google.colab.output.renderOutput(dataTable, element);\n",
              "        const docLink = document.createElement('div');\n",
              "        docLink.innerHTML = docLinkHtml;\n",
              "        element.appendChild(docLink);\n",
              "      }\n",
              "    </script>\n",
              "  </div>\n",
              "\n",
              "\n",
              "<div id=\"df-3d27b71c-0df9-40a8-9297-d49c3f49a94e\">\n",
              "  <button class=\"colab-df-quickchart\" onclick=\"quickchart('df-3d27b71c-0df9-40a8-9297-d49c3f49a94e')\"\n",
              "            title=\"Suggest charts\"\n",
              "            style=\"display:none;\">\n",
              "\n",
              "<svg xmlns=\"http://www.w3.org/2000/svg\" height=\"24px\"viewBox=\"0 0 24 24\"\n",
              "     width=\"24px\">\n",
              "    <g>\n",
              "        <path d=\"M19 3H5c-1.1 0-2 .9-2 2v14c0 1.1.9 2 2 2h14c1.1 0 2-.9 2-2V5c0-1.1-.9-2-2-2zM9 17H7v-7h2v7zm4 0h-2V7h2v10zm4 0h-2v-4h2v4z\"/>\n",
              "    </g>\n",
              "</svg>\n",
              "  </button>\n",
              "\n",
              "<style>\n",
              "  .colab-df-quickchart {\n",
              "      --bg-color: #E8F0FE;\n",
              "      --fill-color: #1967D2;\n",
              "      --hover-bg-color: #E2EBFA;\n",
              "      --hover-fill-color: #174EA6;\n",
              "      --disabled-fill-color: #AAA;\n",
              "      --disabled-bg-color: #DDD;\n",
              "  }\n",
              "\n",
              "  [theme=dark] .colab-df-quickchart {\n",
              "      --bg-color: #3B4455;\n",
              "      --fill-color: #D2E3FC;\n",
              "      --hover-bg-color: #434B5C;\n",
              "      --hover-fill-color: #FFFFFF;\n",
              "      --disabled-bg-color: #3B4455;\n",
              "      --disabled-fill-color: #666;\n",
              "  }\n",
              "\n",
              "  .colab-df-quickchart {\n",
              "    background-color: var(--bg-color);\n",
              "    border: none;\n",
              "    border-radius: 50%;\n",
              "    cursor: pointer;\n",
              "    display: none;\n",
              "    fill: var(--fill-color);\n",
              "    height: 32px;\n",
              "    padding: 0;\n",
              "    width: 32px;\n",
              "  }\n",
              "\n",
              "  .colab-df-quickchart:hover {\n",
              "    background-color: var(--hover-bg-color);\n",
              "    box-shadow: 0 1px 2px rgba(60, 64, 67, 0.3), 0 1px 3px 1px rgba(60, 64, 67, 0.15);\n",
              "    fill: var(--button-hover-fill-color);\n",
              "  }\n",
              "\n",
              "  .colab-df-quickchart-complete:disabled,\n",
              "  .colab-df-quickchart-complete:disabled:hover {\n",
              "    background-color: var(--disabled-bg-color);\n",
              "    fill: var(--disabled-fill-color);\n",
              "    box-shadow: none;\n",
              "  }\n",
              "\n",
              "  .colab-df-spinner {\n",
              "    border: 2px solid var(--fill-color);\n",
              "    border-color: transparent;\n",
              "    border-bottom-color: var(--fill-color);\n",
              "    animation:\n",
              "      spin 1s steps(1) infinite;\n",
              "  }\n",
              "\n",
              "  @keyframes spin {\n",
              "    0% {\n",
              "      border-color: transparent;\n",
              "      border-bottom-color: var(--fill-color);\n",
              "      border-left-color: var(--fill-color);\n",
              "    }\n",
              "    20% {\n",
              "      border-color: transparent;\n",
              "      border-left-color: var(--fill-color);\n",
              "      border-top-color: var(--fill-color);\n",
              "    }\n",
              "    30% {\n",
              "      border-color: transparent;\n",
              "      border-left-color: var(--fill-color);\n",
              "      border-top-color: var(--fill-color);\n",
              "      border-right-color: var(--fill-color);\n",
              "    }\n",
              "    40% {\n",
              "      border-color: transparent;\n",
              "      border-right-color: var(--fill-color);\n",
              "      border-top-color: var(--fill-color);\n",
              "    }\n",
              "    60% {\n",
              "      border-color: transparent;\n",
              "      border-right-color: var(--fill-color);\n",
              "    }\n",
              "    80% {\n",
              "      border-color: transparent;\n",
              "      border-right-color: var(--fill-color);\n",
              "      border-bottom-color: var(--fill-color);\n",
              "    }\n",
              "    90% {\n",
              "      border-color: transparent;\n",
              "      border-bottom-color: var(--fill-color);\n",
              "    }\n",
              "  }\n",
              "</style>\n",
              "\n",
              "  <script>\n",
              "    async function quickchart(key) {\n",
              "      const quickchartButtonEl =\n",
              "        document.querySelector('#' + key + ' button');\n",
              "      quickchartButtonEl.disabled = true;  // To prevent multiple clicks.\n",
              "      quickchartButtonEl.classList.add('colab-df-spinner');\n",
              "      try {\n",
              "        const charts = await google.colab.kernel.invokeFunction(\n",
              "            'suggestCharts', [key], {});\n",
              "      } catch (error) {\n",
              "        console.error('Error during call to suggestCharts:', error);\n",
              "      }\n",
              "      quickchartButtonEl.classList.remove('colab-df-spinner');\n",
              "      quickchartButtonEl.classList.add('colab-df-quickchart-complete');\n",
              "    }\n",
              "    (() => {\n",
              "      let quickchartButtonEl =\n",
              "        document.querySelector('#df-3d27b71c-0df9-40a8-9297-d49c3f49a94e button');\n",
              "      quickchartButtonEl.style.display =\n",
              "        google.colab.kernel.accessAllowed ? 'block' : 'none';\n",
              "    })();\n",
              "  </script>\n",
              "</div>\n",
              "\n",
              "    </div>\n",
              "  </div>\n"
            ]
          },
          "metadata": {},
          "execution_count": 8
        }
      ],
      "source": [
        "df.head()"
      ]
    },
    {
      "cell_type": "code",
      "execution_count": null,
      "metadata": {
        "colab": {
          "base_uri": "https://localhost:8080/"
        },
        "id": "_6ryUCdsqGQv",
        "outputId": "edf45e96-89d2-4f02-a309-298a0ad3c37e"
      },
      "outputs": [
        {
          "output_type": "execute_result",
          "data": {
            "text/plain": [
              "11582"
            ]
          },
          "metadata": {},
          "execution_count": 9
        }
      ],
      "source": [
        "df.size"
      ]
    },
    {
      "cell_type": "code",
      "execution_count": null,
      "metadata": {
        "id": "gYxCBc46mvvd"
      },
      "outputs": [],
      "source": [
        "# Split tweet into distinct words\n",
        "def split_tweet(tweet):\n",
        "    tweet = tweet.replace(\".\", \" . \") \\\n",
        "                 .replace(\",\", \" , \") \\\n",
        "                 .replace(\";\", \" ; \") \\\n",
        "                 .replace(\"?\", \" ? \")\n",
        "    return tweet.split()"
      ]
    },
    {
      "cell_type": "code",
      "execution_count": null,
      "metadata": {
        "id": "53WIFc8HGXR-"
      },
      "outputs": [],
      "source": [
        "def create_glove_embedding(tweet, glove_vector):\n",
        "  return sum(glove_vector[w] for w in split_tweet(tweet))"
      ]
    },
    {
      "cell_type": "code",
      "execution_count": null,
      "metadata": {
        "id": "SiGs6C_eTW6e"
      },
      "outputs": [],
      "source": [
        "def create_fast_text_embedding(tweet, fast_text_vector):\n",
        "  return sum(fast_text_vector[w] for w in split_tweet(tweet))"
      ]
    },
    {
      "cell_type": "code",
      "execution_count": null,
      "metadata": {
        "id": "wsfM3AUjuVKJ"
      },
      "outputs": [],
      "source": [
        "def compute_tweet_glove_vectors(glove_vector):\n",
        "  train, test, valid = [], [], []\n",
        "  for i, line in enumerate(get_data()):\n",
        "    if i == 0:\n",
        "      continue\n",
        "    tweet = line[0]\n",
        "    if i % 59 == 0:\n",
        "      vector_sum = create_glove_embedding(tweet, glove_vector)\n",
        "      label = torch.tensor(int(line[-1]) if int(line[-1]) == 1 else 0 ).long()\n",
        "      if i % 5 < 3:\n",
        "        train.append((vector_sum, label))\n",
        "      elif i % 5 == 3:\n",
        "        test.append((vector_sum, label))\n",
        "      else:\n",
        "        valid.append((vector_sum, label))\n",
        "\n",
        "  return train, test, valid"
      ]
    },
    {
      "cell_type": "code",
      "execution_count": null,
      "metadata": {
        "id": "aQwSe3BSTdIO"
      },
      "outputs": [],
      "source": [
        "# def compute_tweet_fast_text_vectors(fast_text_vector):\n",
        "#   train, test, valid = [], [], []\n",
        "#   for i, line in enumerate(get_data()):\n",
        "#     if i == 0:\n",
        "#       continue\n",
        "#     tweet = line[0]\n",
        "#     if i % 59 == 0:\n",
        "#       vector_sum = create_fast_text_embedding(tweet, fast_text_vector)\n",
        "#       label = torch.tensor(int(line[-1]) if int(line[-1]) == 1 else 0 ).long()\n",
        "#       if i % 5 <= 3:\n",
        "#         train.append((vector_sum, label))\n",
        "#       # elif i % 5 == 3:\n",
        "#       #   test.append((vector_sum, label))\n",
        "#       else:\n",
        "#         valid.append((vector_sum, label))\n",
        "\n",
        "#   return train, test, valid"
      ]
    },
    {
      "cell_type": "code",
      "execution_count": null,
      "metadata": {
        "id": "xr77we5YcsFZ"
      },
      "outputs": [],
      "source": [
        "train, test, valid = compute_tweet_glove_vectors(glove)"
      ]
    },
    {
      "cell_type": "code",
      "source": [
        "# train, test, valid = compute_tweet_fast_text_vectors(fast_text)"
      ],
      "metadata": {
        "id": "t8EJpl5PV5Ay"
      },
      "execution_count": null,
      "outputs": []
    },
    {
      "cell_type": "code",
      "execution_count": null,
      "metadata": {
        "id": "soxe0BqActuC"
      },
      "outputs": [],
      "source": [
        "train_loader = torch.utils.data.DataLoader(train, batch_size=128, shuffle=True)\n",
        "valid_loader = torch.utils.data.DataLoader(valid, batch_size=128, shuffle=True)\n",
        "# test_loader = torch.utils.data.DataLoader(test, batch_size=128, shuffle=True)"
      ]
    },
    {
      "cell_type": "code",
      "execution_count": null,
      "metadata": {
        "id": "2V_Q-UIbrbp0"
      },
      "outputs": [],
      "source": [
        "def get_accuracy(model, data_loader):\n",
        "    correct, total = 0, 0\n",
        "    for tweets, labels in data_loader:\n",
        "        output = model(tweets)\n",
        "        pred = output.max(1, keepdim=True)[1]\n",
        "        correct += pred.eq(labels.view_as(pred)).sum().item()\n",
        "        total += labels.shape[0]\n",
        "    return correct / total"
      ]
    },
    {
      "cell_type": "code",
      "execution_count": null,
      "metadata": {
        "id": "vkeocW3Cc4uP"
      },
      "outputs": [],
      "source": [
        "def train_nn(model, train_loader, valid_loader, num_epochs=5, learning_rate=1e-5):\n",
        "  criterion = nn.CrossEntropyLoss()\n",
        "  optimizer = torch.optim.Adam(model.parameters(), lr=learning_rate)\n",
        "  losses, train_accuracy, val_accuracy = [], [], []\n",
        "  epochs = []\n",
        "  for epoch in range(num_epochs):\n",
        "    print(epoch)\n",
        "    for tweets, labels in train_loader:\n",
        "        optimizer.zero_grad()\n",
        "        pred = model(tweets)\n",
        "        loss = criterion(pred, labels)\n",
        "        loss.backward()\n",
        "        optimizer.step()\n",
        "    losses.append(float(loss))\n",
        "\n",
        "    if epoch % 5 == 4:\n",
        "        epochs.append(epoch)\n",
        "        train_accuracy.append(get_accuracy(model, train_loader))\n",
        "        val_accuracy.append(get_accuracy(model, valid_loader))\n",
        "        print(\"Epoch %d; Loss %f; Train Acc %f; Val Acc %f\" % (\n",
        "            epoch+1, loss, train_accuracy[-1], val_accuracy[-1]))\n",
        "\n",
        "    # plotting\n",
        "    # plt.title(\"Training Curve\")\n",
        "    # plt.plot(losses, label=\"Train\")\n",
        "    # plt.xlabel(\"Epoch\")\n",
        "    # plt.ylabel(\"Loss\")\n",
        "    # plt.show()\n",
        "\n",
        "    # plt.title(\"Training Curve\")\n",
        "    # plt.plot(epochs, train_accuracy, label=\"Train\")\n",
        "    # plt.plot(epochs, val_accuracy, label=\"Validation\")\n",
        "    # plt.xlabel(\"Epoch\")\n",
        "    # plt.ylabel(\"Accuracy\")\n",
        "    # plt.legend(loc='best')\n",
        "    # plt.show()\n"
      ]
    },
    {
      "cell_type": "code",
      "execution_count": null,
      "metadata": {
        "id": "rsY5938csnsj",
        "colab": {
          "base_uri": "https://localhost:8080/"
        },
        "outputId": "75a5ba03-95d7-475f-8386-6215b55c300d"
      },
      "outputs": [
        {
          "output_type": "stream",
          "name": "stdout",
          "text": [
            "0\n",
            "1\n",
            "2\n",
            "3\n",
            "4\n",
            "Epoch 5; Loss 0.693091; Train Acc 0.724138; Val Acc 0.600000\n",
            "5\n",
            "6\n",
            "7\n",
            "8\n",
            "9\n",
            "Epoch 10; Loss 0.693031; Train Acc 0.655172; Val Acc 0.600000\n",
            "10\n",
            "11\n",
            "12\n",
            "13\n",
            "14\n",
            "Epoch 15; Loss 0.692961; Train Acc 0.689655; Val Acc 0.550000\n",
            "15\n",
            "16\n",
            "17\n",
            "18\n",
            "19\n",
            "Epoch 20; Loss 0.692881; Train Acc 0.741379; Val Acc 0.550000\n",
            "20\n",
            "21\n",
            "22\n",
            "23\n",
            "24\n",
            "Epoch 25; Loss 0.692779; Train Acc 0.758621; Val Acc 0.600000\n",
            "25\n",
            "26\n",
            "27\n",
            "28\n",
            "29\n",
            "Epoch 30; Loss 0.692649; Train Acc 0.793103; Val Acc 0.650000\n",
            "30\n",
            "31\n",
            "32\n",
            "33\n",
            "34\n",
            "Epoch 35; Loss 0.692491; Train Acc 0.793103; Val Acc 0.650000\n",
            "35\n",
            "36\n",
            "37\n",
            "38\n",
            "39\n",
            "Epoch 40; Loss 0.692296; Train Acc 0.793103; Val Acc 0.650000\n",
            "40\n",
            "41\n",
            "42\n",
            "43\n",
            "44\n",
            "Epoch 45; Loss 0.692055; Train Acc 0.793103; Val Acc 0.650000\n",
            "45\n",
            "46\n",
            "47\n",
            "48\n",
            "49\n",
            "Epoch 50; Loss 0.691753; Train Acc 0.793103; Val Acc 0.650000\n",
            "50\n",
            "51\n",
            "52\n",
            "53\n",
            "54\n",
            "Epoch 55; Loss 0.691377; Train Acc 0.793103; Val Acc 0.650000\n",
            "55\n",
            "56\n",
            "57\n",
            "58\n",
            "59\n",
            "Epoch 60; Loss 0.690898; Train Acc 0.793103; Val Acc 0.650000\n",
            "60\n",
            "61\n",
            "62\n",
            "63\n",
            "64\n",
            "Epoch 65; Loss 0.690282; Train Acc 0.793103; Val Acc 0.650000\n",
            "65\n",
            "66\n",
            "67\n",
            "68\n",
            "69\n",
            "Epoch 70; Loss 0.689488; Train Acc 0.793103; Val Acc 0.650000\n",
            "70\n",
            "71\n",
            "72\n",
            "73\n",
            "74\n",
            "Epoch 75; Loss 0.688523; Train Acc 0.810345; Val Acc 0.650000\n",
            "75\n",
            "76\n",
            "77\n",
            "78\n",
            "79\n",
            "Epoch 80; Loss 0.687350; Train Acc 0.827586; Val Acc 0.650000\n",
            "80\n",
            "81\n",
            "82\n",
            "83\n",
            "84\n",
            "Epoch 85; Loss 0.685948; Train Acc 0.827586; Val Acc 0.650000\n",
            "85\n",
            "86\n",
            "87\n",
            "88\n",
            "89\n",
            "Epoch 90; Loss 0.684347; Train Acc 0.827586; Val Acc 0.600000\n",
            "90\n",
            "91\n",
            "92\n",
            "93\n",
            "94\n",
            "Epoch 95; Loss 0.682621; Train Acc 0.827586; Val Acc 0.600000\n",
            "95\n",
            "96\n",
            "97\n",
            "98\n",
            "99\n",
            "Epoch 100; Loss 0.680922; Train Acc 0.827586; Val Acc 0.600000\n"
          ]
        }
      ],
      "source": [
        "mymodel = nn.Sequential(nn.Linear(300, 200),\n",
        "                        nn.ReLU(),\n",
        "                        nn.Linear(200, 100),\n",
        "                        nn.ReLU(),\n",
        "                        nn.Linear(100, 80),\n",
        "                        nn.ReLU(),\n",
        "                        # nn.Linear(80, 50),\n",
        "                        # nn.ReLU(),\n",
        "                        nn.Linear(80, 40),\n",
        "                        nn.ReLU(),\n",
        "                        nn.Linear(40, 20),\n",
        "                        nn.ReLU(),\n",
        "                        nn.Linear(20, 2),\n",
        "                        nn.Softmax(dim=0))\n",
        "train_nn(mymodel, train_loader, valid_loader, num_epochs=100 , learning_rate=1e-4)\n",
        "# get_accuracy(mymodel, test_loader)"
      ]
    },
    {
      "cell_type": "code",
      "execution_count": null,
      "metadata": {
        "colab": {
          "base_uri": "https://localhost:8080/"
        },
        "id": "O_VIG6QwuV50",
        "outputId": "2a2fce8f-940e-498b-eef1-b1f77bc10605"
      },
      "outputs": [
        {
          "output_type": "execute_result",
          "data": {
            "text/plain": [
              "Sequential(\n",
              "  (0): Linear(in_features=300, out_features=200, bias=True)\n",
              "  (1): ReLU()\n",
              "  (2): Linear(in_features=200, out_features=100, bias=True)\n",
              "  (3): ReLU()\n",
              "  (4): Linear(in_features=100, out_features=80, bias=True)\n",
              "  (5): ReLU()\n",
              "  (6): Linear(in_features=80, out_features=40, bias=True)\n",
              "  (7): ReLU()\n",
              "  (8): Linear(in_features=40, out_features=20, bias=True)\n",
              "  (9): ReLU()\n",
              "  (10): Linear(in_features=20, out_features=2, bias=True)\n",
              "  (11): Softmax(dim=0)\n",
              ")"
            ]
          },
          "metadata": {},
          "execution_count": 29
        }
      ],
      "source": [
        "mymodel.eval()"
      ]
    },
    {
      "cell_type": "code",
      "execution_count": null,
      "metadata": {
        "id": "rRaLCyePfFyl"
      },
      "outputs": [],
      "source": [
        "def get_sentiment(query):\n",
        "  mymodel.eval()\n",
        "  embedding = create_embedding(query, glove)\n",
        "  out = mymodel(embedding)\n",
        "  class_prob, topclass = torch.max(out, dim=0)\n",
        "\n",
        "  return topclass.item(), class_prob.item()\n"
      ]
    },
    {
      "cell_type": "code",
      "execution_count": null,
      "metadata": {
        "id": "w6EV0yw34nvi"
      },
      "outputs": [],
      "source": [
        " tweet = input()"
      ]
    },
    {
      "cell_type": "code",
      "execution_count": null,
      "metadata": {
        "id": "rIcLQP3ZEmH5"
      },
      "outputs": [],
      "source": [
        "get_sentiment(tweet)"
      ]
    }
  ],
  "metadata": {
    "colab": {
      "provenance": [],
      "authorship_tag": "ABX9TyMMskKsLdInI4mwAz9FlJCr",
      "include_colab_link": true
    },
    "kernelspec": {
      "display_name": "Python 3",
      "name": "python3"
    },
    "language_info": {
      "name": "python"
    }
  },
  "nbformat": 4,
  "nbformat_minor": 0
}
